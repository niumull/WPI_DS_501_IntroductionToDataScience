{
 "cells": [
  {
   "cell_type": "markdown",
   "metadata": {},
   "source": [
    "# Base rate fallacy example"
   ]
  },
  {
   "cell_type": "markdown",
   "metadata": {},
   "source": [
    "In this notenook we work an example of the base rate fallacy using Bayes Theorem.  \n",
    "\n",
    "Assume that we have two random variables $HasDisease$ and $FailsTest$.  $HasDisease=y$ indicates that a person has the disease while $HasDisease=n$ indicates that the person in disease free.  In addition, we have a test which attempts to detect the disease.  $FailsTest=y$ indicates that our test says a person has the disease while $FailsTest=n$ indicates that our test says a person does not have the disease. \n",
    "\n",
    "In this notebook you can play around with the probabilities of interest and see now likely it is that, given you fail the test, that you actually have  the disease.\n",
    "\n",
    "Suppose we know the following probabilities:\n",
    "\n",
    "\\begin{align}\n",
    "Pr(FailsTest=y | HasDisease=y) &= FailAndHasDisease \\\\\n",
    "Pr(FailsTest=n | HasDisease=y) &= NotFailAndHasDisease \\\\\n",
    "Pr(FailsTest=y | HasDisease=n) &= FailAndNotHasDisease \\\\\n",
    "Pr(FailsTest=n | HasDisease=n) &= NotFailAndNotHasDisease \\\\\n",
    "\\end{align}\n",
    "\n",
    "And we know the prior probability of the disease in the population\n",
    "\n",
    "$$\n",
    "Pr(HasDisease=y).\n",
    "$$\n",
    "\n",
    "Note, the point of the base rate fallacy is that you need all <i>5</i> probabilities to compute what you are interested in, namely <i>the probability you have the disease given you fail the test</i>, denoted\n",
    "\n",
    "$$\n",
    "Pr(HasDisease=y | FailsTest=y).\n",
    "$$\n",
    "\n",
    "Without, $Pr(HasDisease=y)$ you cannot truly understand  $Pr(HasDisease=y | FailsTest=y)$.\n",
    "\n",
    "You can play aroun with the numbers in the next cell to see how things work out."
   ]
  },
  {
   "cell_type": "code",
   "execution_count": 3,
   "metadata": {
    "collapsed": false
   },
   "outputs": [],
   "source": [
    "FailAndHasDisease = 1.0\n",
    "NotFailAndHasDisease = 1-FailAndHasDisease\n",
    "FailAndNotHasDisease = 0.01\n",
    "NotFailAndNotHasDisease = 1-FailAndNotHasDisease\n",
    "HasDisease = 1./1000"
   ]
  },
  {
   "cell_type": "markdown",
   "metadata": {},
   "source": [
    "Bayes theorem says that\n",
    "\n",
    "$$\n",
    "Pr(HasDisease=y | FailsTest=y) = \\frac{Pr(FailsTest=y | HasDisease=y) Pr(HasDisease=y)}{Pr(FailsTest=y)}\n",
    "$$\n",
    "\n",
    "Our table gives us the two terms in the numerator, we get the demoninator from the Law of total probability.\n",
    "\n",
    "\\begin{align}\n",
    "Pr(FailsTest=y) & = Pr(FailsTest=y | HasDisease=y) Pr(HasDisease=y) + Pr(FailsTest=y | HasDisease=n) Pr(HasDisease=n) \\\\\n",
    "                & = Pr(FailsTest=y | HasDisease=y) Pr(HasDisease=y) + Pr(FailsTest=y | HasDisease=n) (1- Pr(HasDisease=y))\n",
    "\\end{align}\n",
    "\n",
    "So, the whole thing is\n",
    "\n",
    "$$\n",
    "Pr(HasDisease=y | FailsTest=y) = \\frac{Pr(FailsTest=y | HasDisease=y) Pr(HasDisease=y)}{(Pr(FailsTest=y | HasDisease=y) Pr(HasDisease=y) + Pr(FailsTest=y | HasDisease=n) (1- Pr(HasDisease=y)))}\n",
    "$$"
   ]
  },
  {
   "cell_type": "code",
   "execution_count": 4,
   "metadata": {
    "collapsed": false
   },
   "outputs": [
    {
     "data": {
      "text/plain": [
       "0.09099181073703368"
      ]
     },
     "execution_count": 4,
     "metadata": {},
     "output_type": "execute_result"
    }
   ],
   "source": [
    "FailAndHasDisease*HasDisease/(FailAndHasDisease*HasDisease + FailAndNotHasDisease*(1-HasDisease))"
   ]
  },
  {
   "cell_type": "markdown",
   "metadata": {},
   "source": [
    "This matches the result we did by hand in class.  Play around with the probabilities and see what you discover."
   ]
  },
  {
   "cell_type": "code",
   "execution_count": null,
   "metadata": {
    "collapsed": true
   },
   "outputs": [],
   "source": []
  }
 ],
 "metadata": {
  "anaconda-cloud": {},
  "kernelspec": {
   "display_name": "Python [Root]",
   "language": "python",
   "name": "Python [Root]"
  },
  "language_info": {
   "codemirror_mode": {
    "name": "ipython",
    "version": 3
   },
   "file_extension": ".py",
   "mimetype": "text/x-python",
   "name": "python",
   "nbconvert_exporter": "python",
   "pygments_lexer": "ipython3",
   "version": "3.5.2"
  }
 },
 "nbformat": 4,
 "nbformat_minor": 0
}
