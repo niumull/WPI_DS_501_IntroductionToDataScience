{
 "cells": [
  {
   "cell_type": "markdown",
   "metadata": {},
   "source": [
    "# Case Study 2 : Analyzing data from MovieLens\n",
    "\n",
    "** Due Date: October 27, 2016 5:59PM**\n",
    "\n",
    "*------------"
   ]
  },
  {
   "cell_type": "markdown",
   "metadata": {},
   "source": [
    "## The MovieLens data sets\n",
    "\n",
    "<img src=\"https://pbs.twimg.com/profile_images/378800000380161537/b6fa868dce43807d4e67462587d0b0d2_400x400.png\">\n",
    "\n",
    "http://grouplens.org/datasets/movielens/\n",
    "\n"
   ]
  },
  {
   "cell_type": "code",
   "execution_count": null,
   "metadata": {
    "collapsed": false
   },
   "outputs": [],
   "source": [
    "from IPython.lib.display import YouTubeVideo"
   ]
  },
  {
   "cell_type": "code",
   "execution_count": null,
   "metadata": {
    "collapsed": false
   },
   "outputs": [],
   "source": [
    "YouTubeVideo('dAjRNi6bhSE')"
   ]
  },
  {
   "cell_type": "markdown",
   "metadata": {},
   "source": [
    "**TEAM Members:** Please EDIT this cell and add the names of all the team members in your team\n",
    "\n",
    "    member 1\n",
    "    \n",
    "    member 2\n",
    "    \n",
    "    ..."
   ]
  },
  {
   "cell_type": "markdown",
   "metadata": {},
   "source": [
    "**Desired outcome of the case study.**\n",
    "* In this case study we will look at the MovieLens 1M Data Set.\n",
    "    * It contains data about users and how the rate movies.\n",
    "* The idea is to *analyze* the data set, make *conjectures*, support or refute those conjectures with *data*, and *tell a story* about the data!\n",
    "    \n",
    "**Required Readings:** \n",
    "* Chapter 2 (only the section on the MovieLens 1M Data Set), Chapter 5, Chapter 6,\n",
    "and Chapter 8 of the book [Python for Data Analysis](http://shop.oreilly.com/product/0636920023784.do)  (available from the WPI library as an e-book).\n",
    "* If you want your code to be really compact then you might want to also look into the pivot_table method of Panda's DataFrame, though there are many other ways to complete the case study!\n",
    "\n",
    "**Case study assumptions:**\n",
    "* You have access to a Python installation\n",
    "\n",
    "**Required Python libraries:**\n",
    "* Pandas (pandas.pydata.org)\n",
    "* Matplotlib (matplotlib.org)\n",
    "* If you need help installing them then you can refer to the Anaconda documentation of Chapter 1 of Python for Data Analysis book above \n",
    "\n",
    "** NOTE **\n",
    "* Please don't forget to save the notebook frequently when working in IPython Notebook, otherwise the changes you made can be lost.\n",
    "\n",
    "*----------------------"
   ]
  },
  {
   "cell_type": "markdown",
   "metadata": {},
   "source": [
    "# Problem 1 (20 points total): \n",
    "\n",
    "## (10 points) Importing the MovieLens data set and merging it into a single Pandas DataFrame"
   ]
  },
  {
   "cell_type": "markdown",
   "metadata": {},
   "source": [
    "* Download the 1 million ratings data set from http://grouplens.org/datasets/movielens/ (though if you are feeling adventerous you can download the 10 million ratings file instead)\n",
    "* Merge all of the data into a single Pandas DataFrame\n",
    "* Store the data into an HDF5 file.\n",
    "\n",
    "## (10 points) Report some basic details of the data you collected.  For example:\n",
    "\n",
    "*  How many movies have an average rating over 4.5 overall?\n",
    "*  How many movies have an average rating over 4.5 among men?  How about women?\n",
    "*  How many movies have an *median* rating over 4.5 among men over age 30?  How about women over age 30?\n",
    "*  What are the ten most popular movies?\n",
    "    * Choose what you consider to be a reasonable defintion of \"popular\".\n",
    "    * Be perpared to defend this choice.\n",
    "*  Make some conjectures about how easy various groups are to please? Support your answers with data!  \n",
    "    *  For example, one might conjecture that people between the ages of 1 and 10 are the easiest to please since they are all young children.  This conjecture may or may not be true, but how would you support or disprove either conclusion with with data?\n",
    "    *  Be sure to come up with your own conjectures and support them with data!\n"
   ]
  },
  {
   "cell_type": "markdown",
   "metadata": {},
   "source": [
    "## Answers\n",
    "* There are in total 21 movies have average rating higher than 4.5.\n",
    "* There are in total 51 movies have women's average rating higher than 4.5.\n",
    "* There are in total 23 movies have men's average rating higher than 4.5\n",
    "* There are in total 149 movies have an median rating over 4.5 among women over age 30.\n",
    "* There are in total 86 movies have an median rating over 4.5 among men over age 30.\n",
    "\n",
    "\n",
    "* Definition of \"popular\"\n",
    "    * More rating times\n",
    "    * Highly rated\n",
    "    * Gender neutral\n",
    "    \n",
    "    In these three critirial, we firstly chose the top 100 movies with the most people rating them, and then calculate a score that take 80% weights on average rating and 20% weights on gender ratio since the average rating is clearly more important to the definition of popular. \n",
    "    The equation should be: \n",
    "    $$\n",
    "    score=(1-ratio)\\times 20\\%+average \\,rating\\times 80\\%\n",
    "    $$\n",
    "    where \n",
    "    $$\n",
    "    ratio=\\frac{|number \\,of\\, male \\, voters-number \\, of \\, female \\, voters|}{all\\, voters}\n",
    "    $$\n",
    "\n",
    "    The higher this score is, the more popular a movie is.\n",
    "    \n",
    "\n",
    "* We calculated group's average rating and standard deviation based on their gender, occupation and age to see how easy various groups are to please. \n",
    "    * Female tends to be easier to be pleased with more steady rating score.\n",
    "    * People between under 18 are the easiest group to please, people from 18 to 24 is the hardest group, but it gets better when age grows. \n",
    "    * Homemakers and retired people are the easiest group to please, writers and unemployed people are hardest to pleased. "
   ]
  },
  {
   "cell_type": "code",
   "execution_count": 14,
   "metadata": {
    "collapsed": false
   },
   "outputs": [
    {
     "name": "stderr",
     "output_type": "stream",
     "text": [
      "C:\\Users\\mniu\\AppData\\Local\\Continuum\\Anaconda3\\lib\\site-packages\\ipykernel\\__main__.py:11: ParserWarning: Falling back to the 'python' engine because the 'c' engine does not support regex separators (separators > 1 char and different from '\\s+' are interpreted as regex); you can avoid this warning by specifying engine='python'.\n",
      "C:\\Users\\mniu\\AppData\\Local\\Continuum\\Anaconda3\\lib\\site-packages\\ipykernel\\__main__.py:13: ParserWarning: Falling back to the 'python' engine because the 'c' engine does not support regex separators (separators > 1 char and different from '\\s+' are interpreted as regex); you can avoid this warning by specifying engine='python'.\n",
      "C:\\Users\\mniu\\AppData\\Local\\Continuum\\Anaconda3\\lib\\site-packages\\ipykernel\\__main__.py:15: ParserWarning: Falling back to the 'python' engine because the 'c' engine does not support regex separators (separators > 1 char and different from '\\s+' are interpreted as regex); you can avoid this warning by specifying engine='python'.\n"
     ]
    }
   ],
   "source": [
    "import pandas as pd\n",
    "import numpy as np\n",
    "#-------------------------------\n",
    "# Your code goes here.\n",
    "# Add as many cells as you need\n",
    "#-------------------------------\n",
    "\n",
    "storage = pd.HDFStore('data.h5' , encoding=\"latin1\")\n",
    "\n",
    "unames = ['user_id', 'gender', 'age', 'occupation', 'zip']\n",
    "users = pd.read_table('users.dat', sep='::', header=None,names=unames)\n",
    "rnames = ['user_id', 'movie_id', 'rating', 'timestamp']\n",
    "ratings = pd.read_table('ratings.dat', sep='::', header=None,names=rnames)\n",
    "mnames = ['movie_id', 'title', 'genres']\n",
    "movies = pd.read_table('movies.dat', sep='::', header=None,names=mnames)\n",
    "data = pd.merge(pd.merge(ratings, users), movies)\n"
   ]
  },
  {
   "cell_type": "code",
   "execution_count": 3,
   "metadata": {
    "collapsed": false
   },
   "outputs": [
    {
     "name": "stdout",
     "output_type": "stream",
     "text": [
      "title\n",
      "Gate of Heavenly Peace, The (1995)                                     5.000000\n",
      "Lured (1947)                                                           5.000000\n",
      "Ulysses (Ulisse) (1954)                                                5.000000\n",
      "Smashing Time (1967)                                                   5.000000\n",
      "Follow the Bitch (1998)                                                5.000000\n",
      "Song of Freedom (1936)                                                 5.000000\n",
      "Bittersweet Motel (2000)                                               5.000000\n",
      "Baby, The (1973)                                                       5.000000\n",
      "One Little Indian (1973)                                               5.000000\n",
      "Schlafes Bruder (Brother of Sleep) (1995)                              5.000000\n",
      "I Am Cuba (Soy Cuba/Ya Kuba) (1964)                                    4.800000\n",
      "Lamerica (1994)                                                        4.750000\n",
      "Apple, The (Sib) (1998)                                                4.666667\n",
      "Sanjuro (1962)                                                         4.608696\n",
      "Seven Samurai (The Magnificent Seven) (Shichinin no samurai) (1954)    4.560510\n",
      "Shawshank Redemption, The (1994)                                       4.554558\n",
      "Godfather, The (1972)                                                  4.524966\n",
      "Close Shave, A (1995)                                                  4.520548\n",
      "Usual Suspects, The (1995)                                             4.517106\n",
      "Schindler's List (1993)                                                4.510417\n",
      "Wrong Trousers, The (1993)                                             4.507937\n",
      "Name: rating, dtype: float64\n"
     ]
    },
    {
     "name": "stderr",
     "output_type": "stream",
     "text": [
      "C:\\Users\\mniu\\AppData\\Local\\Continuum\\Anaconda3\\lib\\site-packages\\ipykernel\\__main__.py:13: FutureWarning: order is deprecated, use sort_values(...)\n"
     ]
    }
   ],
   "source": [
    "# average rating over 4.5\n",
    "\n",
    "ratings_by_title = data.groupby('title').size()\n",
    "\n",
    "data_all = data.pivot_table('rating',index=[\"title\"],aggfunc='mean')\n",
    "mean_ratings = data_all.ix[ratings_by_title]\n",
    "# high_ratings = ratings_by_title.index[mean_ratings>4.5]\n",
    "high_ratings = ratings_by_title.index[data_all>4.5]\n",
    "\n",
    "# print(\"There are in total %.4s movies have average rating higher than 4.5.\" % (len(high_ratings)))\n",
    "# print()\n",
    "\n",
    "sorted_table = data_all.order(ascending=False)\n",
    "print(sorted_table[0:len(high_ratings)])"
   ]
  },
  {
   "cell_type": "code",
   "execution_count": 4,
   "metadata": {
    "collapsed": false
   },
   "outputs": [
    {
     "name": "stdout",
     "output_type": "stream",
     "text": [
      "gender                                                     F\n",
      "title                                                       \n",
      "Clean Slate (Coup de Torchon) (1981)                5.000000\n",
      "Ballad of Narayama, The (Narayama Bushiko) (1958)   5.000000\n",
      "Raw Deal (1948)                                     5.000000\n",
      "Bittersweet Motel (2000)                            5.000000\n",
      "Skipped Parts (2000)                                5.000000\n",
      "Lamerica (1994)                                     5.000000\n",
      "Gambler, The (A Játékos) (1997)                     5.000000\n",
      "Brother, Can You Spare a Dime? (1975)               5.000000\n",
      "Ayn Rand: A Sense of Life (1997)                    5.000000\n",
      "24 7: Twenty Four Seven (1997)                      5.000000\n",
      "Twice Upon a Yesterday (1998)                       5.000000\n",
      "Woman of Paris, A (1923)                            5.000000\n",
      "I Am Cuba (Soy Cuba/Ya Kuba) (1964)                 5.000000\n",
      "Gate of Heavenly Peace, The (1995)                  5.000000\n",
      "For the Moment (1994)                               5.000000\n",
      "Country Life (1994)                                 5.000000\n",
      "Prisoner of the Mountains (Kavkazsky Plennik) (...  5.000000\n",
      "Other Side of Sunday, The (Søndagsengler) (1996)    5.000000\n",
      "Saltmen of Tibet, The (1997)                        5.000000\n",
      "Big Combo, The (1955)                               5.000000\n",
      "One Little Indian (1973)                            5.000000\n",
      "Message to Love: The Isle of Wight Festival (1996)  5.000000\n",
      "Belly (1998)                                        5.000000\n",
      "Song of Freedom (1936)                              5.000000\n",
      "Coldblooded (1995)                                  5.000000\n",
      "Battling Butler (1926)                              5.000000\n",
      "Dancemaker (1998)                                   5.000000\n",
      "World of Apu, The (Apur Sansar) (1959)              4.842105\n",
      "Hearts and Minds (1996)                             4.833333\n",
      "Apple, The (Sib) (1998)                             4.750000\n",
      "Rain (1932)                                         4.750000\n",
      "Panther (1995)                                      4.666667\n",
      "Among Giants (1998)                                 4.666667\n",
      "Marcello Mastroianni: I Remember Yes, I Remembe...  4.666667\n",
      "Aparajito (1956)                                    4.666667\n",
      "Close Shave, A (1995)                               4.644444\n",
      "Before the Rain (Pred dozhdot) (1994)               4.600000\n",
      "Firelight (1997)                                    4.600000\n",
      "Flower of My Secret, The (La Flor de Mi Secreto...  4.600000\n",
      "Wrong Trousers, The (1993)                          4.588235\n",
      "General, The (1927)                                 4.575758\n",
      "Sunset Blvd. (a.k.a. Sunset Boulevard) (1950)       4.572650\n",
      "Pather Panchali (1955)                              4.571429\n",
      "Wallace & Gromit: The Best of Aardman Animation...  4.563107\n",
      "Schindler's List (1993)                             4.562602\n",
      "Grand Illusion (Grande illusion, La) (1937)         4.560976\n",
      "Shawshank Redemption, The (1994)                    4.539075\n",
      "Grand Day Out, A (1992)                             4.537879\n",
      "To Kill a Mockingbird (1962)                        4.536667\n",
      "Creature Comforts (1990)                            4.513889\n",
      "Usual Suspects, The (1995)                          4.513317\n"
     ]
    }
   ],
   "source": [
    "# women average high rating\n",
    "average_rating = data.pivot_table('rating',index=[\"title\"],aggfunc='mean',columns='gender')\n",
    "average_rating_women = average_rating.drop('M',1)\n",
    "average_rating = np.array(average_rating)\n",
    "# average_rating_women = np.array(average_rating_women)\n",
    "high_rating_women = ratings_by_title.index[average_rating[:,0]>4.5]\n",
    "# len(high_rating_women)\n",
    "# print(\"There are in total %.4s movies have women's average rating higher than 4.5.\" % (len(high_rating_women)))\n",
    "# print()\n",
    "sorted_table_F_mean = average_rating_women.sort_values('F',ascending=False)\n",
    "print(sorted_table_F_mean[0:len(high_rating_women)])"
   ]
  },
  {
   "cell_type": "code",
   "execution_count": 5,
   "metadata": {
    "collapsed": false
   },
   "outputs": [
    {
     "name": "stdout",
     "output_type": "stream",
     "text": [
      "gender                                                     M\n",
      "title                                                       \n",
      "Schlafes Bruder (Brother of Sleep) (1995)           5.000000\n",
      "Small Wonders (1996)                                5.000000\n",
      "Gate of Heavenly Peace, The (1995)                  5.000000\n",
      "Baby, The (1973)                                    5.000000\n",
      "Ulysses (Ulisse) (1954)                             5.000000\n",
      "Dangerous Game (1993)                               5.000000\n",
      "Angela (1995)                                       5.000000\n",
      "Bells, The (1926)                                   5.000000\n",
      "Smashing Time (1967)                                5.000000\n",
      "Follow the Bitch (1998)                             5.000000\n",
      "Lured (1947)                                        5.000000\n",
      "Time of the Gypsies (Dom za vesanje) (1989)         4.833333\n",
      "I Am Cuba (Soy Cuba/Ya Kuba) (1964)                 4.750000\n",
      "Lamerica (1994)                                     4.666667\n",
      "Window to Paris (1994)                              4.666667\n",
      "Sanjuro (1962)                                      4.639344\n",
      "Apple, The (Sib) (1998)                             4.600000\n",
      "Godfather, The (1972)                               4.583333\n",
      "For All Mankind (1989)                              4.583333\n",
      "Seven Samurai (The Magnificent Seven) (Shichini...  4.576628\n",
      "Shawshank Redemption, The (1994)                    4.560625\n",
      "Raiders of the Lost Ark (1981)                      4.520597\n",
      "Usual Suspects, The (1995)                          4.518248\n"
     ]
    }
   ],
   "source": [
    "average_rating = data.pivot_table('rating',index=[\"title\"],aggfunc='mean',columns='gender')\n",
    "average_rating_men = average_rating.drop('F',1)\n",
    "average_rating = np.array(average_rating)\n",
    "high_rating_men = ratings_by_title.index[average_rating[:,1]>4.5]\n",
    "# len(high_rating_men)\n",
    "# print(\"There are in total %.4s movies have men's average rating higher than 4.5.\" % (len(high_rating_men)))\n",
    "# print()\n",
    "sorted_table_M_mean = average_rating_men.sort_values('M',ascending=False)\n",
    "print(sorted_table_M_mean[0:len(high_rating_men)])"
   ]
  },
  {
   "cell_type": "code",
   "execution_count": 6,
   "metadata": {
    "collapsed": false
   },
   "outputs": [
    {
     "name": "stderr",
     "output_type": "stream",
     "text": [
      "C:\\Users\\mniu\\AppData\\Local\\Continuum\\Anaconda3\\lib\\site-packages\\pandas\\indexes\\base.py:1275: VisibleDeprecationWarning: boolean index did not match indexed array along dimension 0; dimension is 3706 but corresponding boolean dimension is 3595\n",
      "  result = getitem(key)\n"
     ]
    }
   ],
   "source": [
    "data_over30 = data.query('age>=30')\n",
    "median_rating = data_over30.pivot_table('rating',index = ['title'], columns='gender',aggfunc='median')\n",
    "median_rating = np.array(median_rating)\n",
    "high_median_rating_women = ratings_by_title.index[median_rating[:,0]>4.5]\n",
    "high_median_rating_men = ratings_by_title.index[median_rating[:,1]>4.5]\n",
    "# print(\"There are in total %.4s movies have women's median rating higher than 4.5.\" % (len(high_median_rating_women)))\n",
    "# print(\"There are in total %.4s movies have men's median rating higher than 4.5.\" % (len(high_median_rating_men)))\n",
    "# print(len(high_median_rating_women))\n",
    "# print(len(high_median_rating_men))"
   ]
  },
  {
   "cell_type": "code",
   "execution_count": 10,
   "metadata": {
    "collapsed": false
   },
   "outputs": [
    {
     "name": "stderr",
     "output_type": "stream",
     "text": [
      "C:\\Users\\mniu\\AppData\\Local\\Continuum\\Anaconda3\\lib\\site-packages\\ipykernel\\__main__.py:15: SettingWithCopyWarning: \n",
      "A value is trying to be set on a copy of a slice from a DataFrame.\n",
      "Try using .loc[row_indexer,col_indexer] = value instead\n",
      "\n",
      "See the caveats in the documentation: http://pandas.pydata.org/pandas-docs/stable/indexing.html#indexing-view-versus-copy\n"
     ]
    }
   ],
   "source": [
    "amount_rating = data.pivot_table('rating',index=[\"title\"],aggfunc=('count','mean'),columns='gender')\n",
    "amount_rating = np.array(amount_rating)\n",
    "A = amount_rating[:,0]+amount_rating[:,1]\n",
    "B = ((amount_rating[:,0]*amount_rating[:,2])+(amount_rating[:,1]*amount_rating[:,3]))/(amount_rating[:,0]+amount_rating[:,1])\n",
    "amount_rating = data.pivot_table('rating',index=[\"title\"],aggfunc=('count','mean'),columns='gender')\n",
    "amount_rating['all count'] = A\n",
    "amount_rating['Avg_rating'] = B\n",
    "\n",
    "sorted_table_count = amount_rating.sort_values('all count',ascending=False)\n",
    "pop_movies = sorted_table_count[0:100]\n",
    "pop_movies = np.array(pop_movies)\n",
    "\n",
    "ratio = abs(pop_movies[:,0]-pop_movies[:,1])/pop_movies[:,4]\n",
    "pop_movies = sorted_table_count[0:100]\n",
    "pop_movies['ratio'] = ratio\n",
    "\n",
    "sorted_table_ratio = pop_movies.sort_values('ratio')\n",
    "pd.set_option('display.max_rows', len(sorted_table_ratio))\n",
    "sorted_table_ratio.to_excel(\"sorted_table_ratio.xlsx\")\n",
    "# sorted_table_ratio\n"
   ]
  },
  {
   "cell_type": "code",
   "execution_count": 11,
   "metadata": {
    "collapsed": false,
    "scrolled": true
   },
   "outputs": [
    {
     "name": "stderr",
     "output_type": "stream",
     "text": [
      "C:\\Users\\mniu\\AppData\\Local\\Continuum\\Anaconda3\\lib\\site-packages\\ipykernel\\__main__.py:15: SettingWithCopyWarning: \n",
      "A value is trying to be set on a copy of a slice from a DataFrame.\n",
      "Try using .loc[row_indexer,col_indexer] = value instead\n",
      "\n",
      "See the caveats in the documentation: http://pandas.pydata.org/pandas-docs/stable/indexing.html#indexing-view-versus-copy\n"
     ]
    }
   ],
   "source": [
    "amount_rating = data.pivot_table('rating',index=[\"title\"],aggfunc=('count','mean'),columns='gender')\n",
    "amount_rating = np.array(amount_rating)\n",
    "A = amount_rating[:,0]+amount_rating[:,1]\n",
    "B = ((amount_rating[:,0]*amount_rating[:,2])+(amount_rating[:,1]*amount_rating[:,3]))/(amount_rating[:,0]+amount_rating[:,1])\n",
    "amount_rating = data.pivot_table('rating',index=[\"title\"],aggfunc=('count','mean'),columns='gender')\n",
    "amount_rating['all count'] = A\n",
    "amount_rating['Avg_rating'] = B\n",
    "\n",
    "sorted_table_count = amount_rating.sort_values('all count',ascending=False)\n",
    "pop_movies = sorted_table_count[0:300]\n",
    "pop_movies = np.array(pop_movies)\n",
    "\n",
    "ratio = abs(pop_movies[:,0]-pop_movies[:,1])/pop_movies[:,4]\n",
    "pop_movies = sorted_table_count[0:300]\n",
    "pop_movies['ratio'] = ratio\n",
    "\n",
    "sorted_table_ratio = pop_movies.sort_values('ratio')\n",
    "pd.set_option('display.max_rows', len(sorted_table_ratio))\n",
    "sorted_table_ratio.to_excel(\"sorted_table_ratio_300.xlsx\")"
   ]
  },
  {
   "cell_type": "code",
   "execution_count": 12,
   "metadata": {
    "collapsed": false
   },
   "outputs": [],
   "source": [
    "gender_rating = data.pivot_table('rating',index=[\"title\"],aggfunc=('mean'),columns='gender')\n",
    "gender_rating_std = data.pivot_table('rating',index=[\"title\"],aggfunc=('std'),columns='gender')\n",
    "\n",
    "gender_rating_F = np.mean(gender_rating['F'])\n",
    "gender_rating_M = np.mean(gender_rating['M'])\n",
    "gender_rating_std_F = np.mean(gender_rating_std['F'])\n",
    "gender_rating_std_M = np.mean(gender_rating_std['M'])\n",
    "# print(\"The average of women rating is %.4s, the standard diviation is %.6s.\" % (gender_rating_F,gender_rating_std_F))\n",
    "# print(\"The average of men rating is %.4s, the standard diviation is %.6s.\" % (gender_rating_M,gender_rating_std_M))\n",
    "# print()\n",
    "\n",
    "age_rating = data.pivot_table('rating',index=[\"title\"],aggfunc=('mean'),columns='age')\n",
    "age_rating_std = data.pivot_table('rating',index=[\"title\"],aggfunc=('std'),columns='age')\n",
    "age_ratings = [0]*57\n",
    "age_ratings_std = [0]*57\n",
    "for i in [1,18,25,35,45,50,56]:\n",
    "    age_ratings[i] = np.mean(age_rating.loc[:,i].dropna(axis=0))\n",
    "    age_ratings_std[i] = np.mean(age_rating_std.loc[:,i].dropna(axis=0))\n",
    "#     print(\"The average rating of age %.4s is %.4s,std is %.6s.\" % (i,age_ratings[i],age_ratings_std[i]))\n",
    "# print()\n",
    "\n",
    "\n",
    "occupation_rating = data.pivot_table('rating',index=[\"title\"],aggfunc=('mean'),columns='occupation')\n",
    "occupation_rating_std = data.pivot_table('rating',index=[\"title\"],aggfunc=('std'),columns='occupation')\n",
    "occupation_title = [\"other or not specified\",\"academic/educator\",\"artist\",\"clerical/admin\",\"college/grad student\",\n",
    "                   \"customer service\",\"doctor/health care\",\"executive/managerial\",\"farmer\",\"homemaker\",\"K-12 student\",\n",
    "                   \"lawyer\",\"programmer\",\"retired\",\"sales/marketing\",\"scientist\",\"self-employed\",\"technician/engineer\",\n",
    "                    \"tradesman/craftsman\",\"unemployed\",\"writer\"] \n",
    "\n",
    "occupation_ratings = [0]*21\n",
    "occupation_ratings_std = [0]*21\n",
    "for i in range(21):\n",
    "    occupation_ratings[i] = np.mean(occupation_rating.loc[:,i].dropna(axis=0))\n",
    "    occupation_ratings_std[i] = np.mean(occupation_rating_std.loc[:,i].dropna(axis=0))\n",
    "#     print(\"The average rating of age %.4s is %.4s.\" % (i,age_ratings[i]))\n",
    "occupation_ratings\n",
    "OCC = pd.DataFrame({'Occupation': occupation_title, 'Avg_rating': occupation_ratings, 'STD': occupation_ratings_std})\n",
    "sorted_OCC = OCC.sort_values('Avg_rating',ascending=False)\n",
    "sorted_OCC.to_excel(\"sorted_occ.xlsx\")\n"
   ]
  },
  {
   "cell_type": "markdown",
   "metadata": {},
   "source": [
    "# Problem 2 (20 points total): Expand our investigation to histograms\n",
    "\n",
    "**An obvious issue with any inferences drawn from Problem 1 is that we did not consider how many times a movie was rated.** \n",
    "* (2 points) Plot a histogram of the ratings of all movies.\n",
    "* (2 points) Plot a histogram of the *number* of ratings each movie recieved.\n",
    "* (2 points) Plot a histogram of the *average rating* for each movie.\n",
    "* (6 points) Plot a histogram of the *average rating* for movies which are rated more than 100 times.\n",
    "    * What do you observe about the tails of the histogram where you use all the movies versus the one where you only use movies rated more than 100 times?\n",
    "    * Which highly rated movies would you trust are actually good?  Those rated more than 100 times or those rated less than 100 times?\n",
    "* (8 points) Make some conjectures about the distribution of ratings? Support your answers with data!  \n",
    "    *  For example, what age range do you think has more extreme ratings?  Do you think children are more or less likely to rate a movie 1 or 5?\n",
    "    *  Be sure to come up with your own conjectures and support them with data!"
   ]
  },
  {
   "cell_type": "code",
   "execution_count": null,
   "metadata": {
    "collapsed": false
   },
   "outputs": [],
   "source": [
    "#-------------------------------\n",
    "# Your code goes here.\n",
    "# Add as many cells as you need\n",
    "#-------------------------------\n",
    "import matplotlib.pylab as plt\n",
    "# import numpy as np\n",
    "\n",
    "# 2-1 default is mean\n",
    "data_all = data.pivot_table('rating',index=[\"title\"])\n",
    "plt.hist(data_all)\n",
    "plt.show()\n"
   ]
  },
  {
   "cell_type": "code",
   "execution_count": null,
   "metadata": {
    "collapsed": true
   },
   "outputs": [],
   "source": [
    "# 2-2\n",
    "data_CountRate = data.pivot_table('rating',index='title',aggfunc='count')\n",
    "\n",
    "plt.hist(data_CountRate)\n",
    "plt.show()\n",
    "# data_CountRate"
   ]
  },
  {
   "cell_type": "code",
   "execution_count": null,
   "metadata": {
    "collapsed": true
   },
   "outputs": [],
   "source": [
    "indexs = list()\n",
    "for i in range(len(data_CountRate)):\n",
    "    if data_CountRate[i] >= 100:\n",
    "        indexs.append(i)\n",
    "indexs        \n"
   ]
  },
  {
   "cell_type": "code",
   "execution_count": null,
   "metadata": {
    "collapsed": false
   },
   "outputs": [],
   "source": [
    "# 2-4\n",
    "# data = np.array(data)\n",
    "ratings_by_title = data.groupby('title').size()\n",
    "# ratings_by_title[:10]\n",
    "active_titles = ratings_by_title.index[ratings_by_title>=100]\n",
    "# active_titles\n",
    "mean_ratings = data_all.ix[active_titles]\n",
    "plt.hist(mean_ratings)\n",
    "plt.show()"
   ]
  },
  {
   "cell_type": "code",
   "execution_count": null,
   "metadata": {
    "collapsed": false,
    "scrolled": true
   },
   "outputs": [],
   "source": [
    "mean_ratings"
   ]
  },
  {
   "cell_type": "code",
   "execution_count": null,
   "metadata": {
    "collapsed": true
   },
   "outputs": [],
   "source": [
    "data_MeanRate = data.pivot_table('rating',index='title')\n",
    "plt.hist(data_MeanRate)\n",
    "plt.show()\n",
    "# data_MeanRate"
   ]
  },
  {
   "cell_type": "markdown",
   "metadata": {},
   "source": [
    "*------------------------\n",
    "\n",
    "# Problem 3: (20 points total)\n",
    "## Correlation:  Men versus women\n",
    "\n",
    "Let look more closely at the relationship between the pieces of data we have."
   ]
  },
  {
   "cell_type": "markdown",
   "metadata": {},
   "source": [
    "* (2 points) Make a scatter plot of men versus women and their mean rating for every movie.\n",
    "* (2 points) Make a scatter plot of men versus women and their mean rating for movies rated more than 200 times.\n",
    "* (6 points) Compute the *correlation coefficent* between the ratings of men and women.\n",
    "    * What do you observe?\n",
    "    * Are the ratings similiar or not? Support your answer with data!\n",
    "* (10 points) Conjecture under what circumstances the rating given by one gender can be used to predict the rating given by the other gender.\n",
    "    * For example, are men and women more similar when they are younger or older?\n",
    "    * Be sure to come up with your own conjectures and support them with data!"
   ]
  },
  {
   "cell_type": "code",
   "execution_count": null,
   "metadata": {
    "collapsed": false
   },
   "outputs": [],
   "source": [
    "#-------------------------------\n",
    "# Your code goes here.\n",
    "# Add as many cells as you need\n",
    "#-------------------------------\n",
    "# 3-1\n",
    "mean_rating = data.pivot_table('rating',index = 'title', columns='gender',aggfunc = 'mean')\n",
    "mean_rating\n",
    "mean_rating_women = mean_rating.drop('M',1)\n",
    "mean_rating_men = mean_rating.drop('F',1)\n",
    "y = np.r_[0:len(mean_rating_women)]\n",
    "\n",
    "fig = plt.figure()\n",
    "ax1 = fig.add_subplot(111)\n",
    "\n",
    "ax1.scatter(mean_rating_women, y,s=10, c='b', marker=\"s\", label='women')\n",
    "ax1.scatter(mean_rating_men, y, s=10, c='r', marker=\"o\", label='men')\n",
    "plt.legend(loc='upper left');\n",
    "plt.show()"
   ]
  },
  {
   "cell_type": "code",
   "execution_count": null,
   "metadata": {
    "collapsed": false
   },
   "outputs": [],
   "source": [
    "np.r_[0:len(mean_rating_women)]"
   ]
  },
  {
   "cell_type": "code",
   "execution_count": null,
   "metadata": {
    "collapsed": false
   },
   "outputs": [],
   "source": [
    "len(mean_rating_title)"
   ]
  },
  {
   "cell_type": "code",
   "execution_count": null,
   "metadata": {
    "collapsed": false,
    "scrolled": true
   },
   "outputs": [],
   "source": [
    "# mean_rating = mean_rating.drop('M',1)\n",
    "# mean_rating = mean_rating.drop('F',1)\n",
    "mean_rating"
   ]
  },
  {
   "cell_type": "markdown",
   "metadata": {},
   "source": [
    "*------------------------\n",
    "\n",
    "# Problem 4: (20 points total)\n",
    "## Open Ended Question:  Business Intelligence"
   ]
  },
  {
   "cell_type": "markdown",
   "metadata": {},
   "source": [
    "* Do any of your conjectures in Problems 1, 2, and 3 provide insights that a movie company might be interested in?\n",
    "* Propose a business question that you think this data can answer.\n",
    "* Suppose you are a Data Sciencetist at a movie company.  **Convince your boss that your conjecture is correct!**"
   ]
  },
  {
   "cell_type": "markdown",
   "metadata": {},
   "source": [
    "# Report: communicate the results (20 points)\n",
    "\n",
    "(1) (5 points) What data you collected?\n",
    "\n",
    "(2) (5 points) Why this topic is interesting or important to you? (Motivations)\n",
    "\n",
    "(3) (5 points) How did you analyse the data?\n",
    "\n",
    "(4) (5 points) What did you find in the data?\n",
    "(please include figures or tables in the report, but no source code)"
   ]
  },
  {
   "cell_type": "markdown",
   "metadata": {},
   "source": [
    "# Slides (for 10 minutes of presentation) (20 points)\n",
    "\n",
    "\n",
    "1. (5 points) Motivation about the data collection, why the topic is interesting to you. \n",
    "\n",
    "2. (10 points) Communicating Results (figure/table)\n",
    "\n",
    "3. (5 points) Story telling (How all the parts (data, analysis, result) fit together as a story?)"
   ]
  },
  {
   "cell_type": "markdown",
   "metadata": {},
   "source": [
    "*-----------------\n",
    "# Done\n",
    "\n",
    "All set! \n",
    "\n",
    "** What do you need to submit?**\n",
    "\n",
    "* **Notebook File**: Save this IPython notebook, and find the notebook file in your folder (for example, \"filename.ipynb\"). This is the file you need to submit. Please make sure all the plotted tables and figures are in the notebook. If you used \"ipython notebook --pylab=inline\" to open the notebook, all the figures and tables should have shown up in the notebook.\n",
    "\n",
    "\n",
    "* **PPT Slides**: please prepare PPT slides (for 10 minutes' talk) to present about the case study . We will ask two teams which are randomly selected to present their case studies in class for this case study. \n",
    "\n",
    "* ** Report**: please prepare a report (less than 10 pages) to report what you found in the data.\n",
    "    * What is the relationship between this topic and Business Intelligence?\n",
    "    * How did you analyse the data?\n",
    "    * What did you find in the data? \n",
    "    * What conjectures did you make and how did you support or disprove them using data?\n",
    "    * Did you find anything suprising in the data?\n",
    "    * What business decision do you think this data could help answer?  Why?\n",
    "\n",
    "     (please include figures or tables in the report, **but no source code**)\n",
    "\n",
    "*Please compress all the files into a single zipped file.*\n",
    "\n",
    "\n",
    "** How to submit: **\n",
    "\n",
    "        Send an email to rcpaffenroth@wpi.edu and wliu3@wpi.edu with the subject: \"[DS501] Case study 2-TEAM NUMBER ???\"."
   ]
  },
  {
   "cell_type": "code",
   "execution_count": null,
   "metadata": {
    "collapsed": false
   },
   "outputs": [],
   "source": []
  }
 ],
 "metadata": {
  "anaconda-cloud": {},
  "kernelspec": {
   "display_name": "Python [default]",
   "language": "python",
   "name": "python3"
  },
  "language_info": {
   "codemirror_mode": {
    "name": "ipython",
    "version": 3
   },
   "file_extension": ".py",
   "mimetype": "text/x-python",
   "name": "python",
   "nbconvert_exporter": "python",
   "pygments_lexer": "ipython3",
   "version": "3.5.2"
  }
 },
 "nbformat": 4,
 "nbformat_minor": 0
}
