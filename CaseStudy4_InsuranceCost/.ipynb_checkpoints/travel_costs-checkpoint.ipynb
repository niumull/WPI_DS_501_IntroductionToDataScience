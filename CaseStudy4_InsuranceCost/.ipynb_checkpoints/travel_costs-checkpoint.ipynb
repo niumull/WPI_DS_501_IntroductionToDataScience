{
 "cells": [
  {
   "cell_type": "code",
   "execution_count": null,
   "metadata": {
    "collapsed": true
   },
   "outputs": [],
   "source": [
    "# Travel Data Matrix\n",
    "travel_costs = {\n",
    "                'ATLANTA':{'ATLANTA':0, 'BOSTON':500, 'CHARLOTTE':500, 'CHICAGO':500,\n",
    "                           'HOUSTON':500,'MIAMI':500, 'PHILADELPHIA':500, 'WASHINGTON':500 },\n",
    "    \n",
    "                'BOSTON':{'ATLANTA':500, 'BOSTON':0, 'CHARLOTTE':500, 'CHICAGO':500,\n",
    "                          'HOUSTON':500,'MIAMI':500, 'PHILADELPHIA':500, 'WASHINGTON':500 },\n",
    "    \n",
    "                'CHARLOTTE':{'ATLANTA':500, 'BOSTON':500, 'CHARLOTTE':0, 'CHICAGO':500,\n",
    "                            'HOUSTON':500,'MIAMI':500, 'PHILADELPHIA':500, 'WASHINGTON':500},\n",
    "    \n",
    "                'CHICAGO':{'ATLANTA':500, 'BOSTON':500, 'CHARLOTTE':500, 'CHICAGO':0,\n",
    "                           'HOUSTON':500,'MIAMI':500, 'PHILADELPHIA':500, 'WASHINGTON':500 },\n",
    "    \n",
    "                'HOUSTON':{'ATLANTA':500, 'BOSTON':500, 'CHARLOTTE':500, 'CHICAGO':500,\n",
    "                           'HOUSTON':0,'MIAMI':500, 'PHILADELPHIA':500, 'WASHINGTON':500 },\n",
    "    \n",
    "                'MIAMI':{'ATLANTA':500, 'BOSTON':500, 'CHARLOTTE':500, 'CHICAGO':500,\n",
    "                          'HOUSTON':500,'MIAMI':0, 'PHILADELPHIA':500, 'WASHINGTON':500 },\n",
    "    \n",
    "                'PHILADELPHIA':{'ATLANTA':500, 'BOSTON':500, 'CHARLOTTE':500, 'CHICAGO':500,\n",
    "                                'HOUSTON':500,'MIAMI':500, 'PHILADELPHIA':0, 'WASHINGTON':500  },\n",
    "    \n",
    "                'WASHINGTON':{'ATLANTA':500, 'BOSTON':500, 'CHARLOTTE':500, 'CHICAGO':500,\n",
    "                              'HOUSTON':500,'MIAMI':500, 'PHILADELPHIA':500, 'WASHINGTON':0  }\n",
    "            }"
   ]
  }
 ],
 "metadata": {
  "anaconda-cloud": {},
  "kernelspec": {
   "display_name": "Python [default]",
   "language": "python",
   "name": "python3"
  },
  "language_info": {
   "codemirror_mode": {
    "name": "ipython",
    "version": 3
   },
   "file_extension": ".py",
   "mimetype": "text/x-python",
   "name": "python",
   "nbconvert_exporter": "python",
   "pygments_lexer": "ipython3",
   "version": "3.5.2"
  }
 },
 "nbformat": 4,
 "nbformat_minor": 1
}
