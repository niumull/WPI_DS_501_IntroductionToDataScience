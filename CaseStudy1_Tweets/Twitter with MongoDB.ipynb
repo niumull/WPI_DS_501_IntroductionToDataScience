{
 "cells": [
  {
   "cell_type": "markdown",
   "metadata": {},
   "source": [
    "# Example 1. Authorizing an application to access Twitter account data"
   ]
  },
  {
   "cell_type": "code",
   "execution_count": 1,
   "metadata": {
    "collapsed": false
   },
   "outputs": [
    {
     "name": "stdout",
     "output_type": "stream",
     "text": [
      "<twitter.api.Twitter object at 0x0000011CFB583240>\n"
     ]
    }
   ],
   "source": [
    "import twitter\n",
    "# Go to http://dev.twitter.com/apps/new to create an app and get values\n",
    "# for these credentials, which you'll need to provide in place of these\n",
    "# empty string values that are defined as placeholders.\n",
    "# See https://dev.twitter.com/docs/auth/oauth for more information \n",
    "# on Twitter's OAuth implementation.\n",
    "\n",
    "CONSUMER_KEY = 'OYT3v8MByXqfVjdU49B64gQLB'\n",
    "CONSUMER_SECRET ='QGFz5aa4CRXyVOWxgZQd2YxjcB5FjmK8y6QQkO39RdNbzOUJtG'\n",
    "OAUTH_TOKEN = '571213367-016n5aGlN9TUNZ1dHvLBy55yKfM2PMFhSUmlE0Hf'\n",
    "OAUTH_TOKEN_SECRET = '6gsjjbMrkGuJI9vvTXLcD2hhpmy2e1Cin0rmCpwJF81y6'\n",
    "\n",
    "auth = twitter.oauth.OAuth(OAUTH_TOKEN, OAUTH_TOKEN_SECRET,\n",
    "                           CONSUMER_KEY, CONSUMER_SECRET)\n",
    "\n",
    "twitter_api = twitter.Twitter(auth=auth)\n",
    "\n",
    "# Nothing to see by displaying twitter_api except that it's now a\n",
    "# defined variable\n",
    "\n",
    "print(twitter_api)"
   ]
  },
  {
   "cell_type": "markdown",
   "metadata": {},
   "source": [
    "# Example 2. Retrieving trends"
   ]
  },
  {
   "cell_type": "code",
   "execution_count": 2,
   "metadata": {
    "collapsed": false
   },
   "outputs": [],
   "source": [
    "# The Yahoo! Where On Earth ID for the entire world is 1.\n",
    "# See https://dev.twitter.com/docs/api/1.1/get/trends/place and\n",
    "# http://developer.yahoo.com/geo/geoplanet/\n",
    "\n",
    "WORLD_WOE_ID = 1\n",
    "US_WOE_ID = 23424977\n",
    "\n",
    "# Prefix ID with the underscore for query string parameterization.\n",
    "# Without the underscore, the twitter package appends the ID value\n",
    "# to the URL itself as a special case keyword argument.\n",
    "\n",
    "world_trends = twitter_api.trends.place(_id=WORLD_WOE_ID)\n",
    "us_trends = twitter_api.trends.place(_id=US_WOE_ID)\n"
   ]
  },
  {
   "cell_type": "code",
   "execution_count": 3,
   "metadata": {
    "collapsed": false,
    "scrolled": true
   },
   "outputs": [
    {
     "data": {
      "text/plain": [
       "[{'as_of': '2016-09-16T00:20:17Z',\n",
       "  'created_at': '2016-09-16T00:14:59Z',\n",
       "  'locations': [{'name': 'Worldwide', 'woeid': 1}],\n",
       "  'trends': [{'name': '#Gala2GH17',\n",
       "    'promoted_content': None,\n",
       "    'query': '%23Gala2GH17',\n",
       "    'tweet_volume': 202280,\n",
       "    'url': 'http://twitter.com/search?q=%23Gala2GH17'},\n",
       "   {'name': 'Domingos Montagner',\n",
       "    'promoted_content': None,\n",
       "    'query': '%22Domingos+Montagner%22',\n",
       "    'tweet_volume': 370653,\n",
       "    'url': 'http://twitter.com/search?q=%22Domingos+Montagner%22'},\n",
       "   {'name': '#bbcqt',\n",
       "    'promoted_content': None,\n",
       "    'query': '%23bbcqt',\n",
       "    'tweet_volume': 42109,\n",
       "    'url': 'http://twitter.com/search?q=%23bbcqt'},\n",
       "   {'name': '#اسم_مدرستك_مرحله_الابتدايي',\n",
       "    'promoted_content': None,\n",
       "    'query': '%23%D8%A7%D8%B3%D9%85_%D9%85%D8%AF%D8%B1%D8%B3%D8%AA%D9%83_%D9%85%D8%B1%D8%AD%D9%84%D9%87_%D8%A7%D9%84%D8%A7%D8%A8%D8%AA%D8%AF%D8%A7%D9%8A%D9%8A',\n",
       "    'tweet_volume': 39415,\n",
       "    'url': 'http://twitter.com/search?q=%23%D8%A7%D8%B3%D9%85_%D9%85%D8%AF%D8%B1%D8%B3%D8%AA%D9%83_%D9%85%D8%B1%D8%AD%D9%84%D9%87_%D8%A7%D9%84%D8%A7%D8%A8%D8%AA%D8%AF%D8%A7%D9%8A%D9%8A'},\n",
       "   {'name': '#زمن_ودك_يرجع',\n",
       "    'promoted_content': None,\n",
       "    'query': '%23%D8%B2%D9%85%D9%86_%D9%88%D8%AF%D9%83_%D9%8A%D8%B1%D8%AC%D8%B9',\n",
       "    'tweet_volume': None,\n",
       "    'url': 'http://twitter.com/search?q=%23%D8%B2%D9%85%D9%86_%D9%88%D8%AF%D9%83_%D9%8A%D8%B1%D8%AC%D8%B9'},\n",
       "   {'name': '#FelipeNetoNoTVZ',\n",
       "    'promoted_content': None,\n",
       "    'query': '%23FelipeNetoNoTVZ',\n",
       "    'tweet_volume': 16854,\n",
       "    'url': 'http://twitter.com/search?q=%23FelipeNetoNoTVZ'},\n",
       "   {'name': 'Magrão',\n",
       "    'promoted_content': None,\n",
       "    'query': 'Magr%C3%A3o',\n",
       "    'tweet_volume': None,\n",
       "    'url': 'http://twitter.com/search?q=Magr%C3%A3o'},\n",
       "   {'name': 'Pokémon GO Plus',\n",
       "    'promoted_content': None,\n",
       "    'query': '%22Pok%C3%A9mon+GO+Plus%22',\n",
       "    'tweet_volume': None,\n",
       "    'url': 'http://twitter.com/search?q=%22Pok%C3%A9mon+GO+Plus%22'},\n",
       "   {'name': 'Otero',\n",
       "    'promoted_content': None,\n",
       "    'query': 'Otero',\n",
       "    'tweet_volume': None,\n",
       "    'url': 'http://twitter.com/search?q=Otero'},\n",
       "   {'name': '#كلمه_من_قلبگ_للعطله',\n",
       "    'promoted_content': None,\n",
       "    'query': '%23%D9%83%D9%84%D9%85%D9%87_%D9%85%D9%86_%D9%82%D9%84%D8%A8%DA%AF_%D9%84%D9%84%D8%B9%D8%B7%D9%84%D9%87',\n",
       "    'tweet_volume': 36628,\n",
       "    'url': 'http://twitter.com/search?q=%23%D9%83%D9%84%D9%85%D9%87_%D9%85%D9%86_%D9%82%D9%84%D8%A8%DA%AF_%D9%84%D9%84%D8%B9%D8%B7%D9%84%D9%87'},\n",
       "   {'name': '#RenunciaYa',\n",
       "    'promoted_content': None,\n",
       "    'query': '%23RenunciaYa',\n",
       "    'tweet_volume': 71944,\n",
       "    'url': 'http://twitter.com/search?q=%23RenunciaYa'},\n",
       "   {'name': '#HispanicHeritageMonth',\n",
       "    'promoted_content': None,\n",
       "    'query': '%23HispanicHeritageMonth',\n",
       "    'tweet_volume': 87551,\n",
       "    'url': 'http://twitter.com/search?q=%23HispanicHeritageMonth'},\n",
       "   {'name': '#JOANNE',\n",
       "    'promoted_content': None,\n",
       "    'query': '%23JOANNE',\n",
       "    'tweet_volume': 132104,\n",
       "    'url': 'http://twitter.com/search?q=%23JOANNE'},\n",
       "   {'name': '#هديه_نارسس_لمتابعين',\n",
       "    'promoted_content': None,\n",
       "    'query': '%23%D9%87%D8%AF%D9%8A%D9%87_%D9%86%D8%A7%D8%B1%D8%B3%D8%B3_%D9%84%D9%85%D8%AA%D8%A7%D8%A8%D8%B9%D9%8A%D9%86',\n",
       "    'tweet_volume': 27721,\n",
       "    'url': 'http://twitter.com/search?q=%23%D9%87%D8%AF%D9%8A%D9%87_%D9%86%D8%A7%D8%B1%D8%B3%D8%B3_%D9%84%D9%85%D8%AA%D8%A7%D8%A8%D8%B9%D9%8A%D9%86'},\n",
       "   {'name': '#MafiaSegueDeVolta',\n",
       "    'promoted_content': None,\n",
       "    'query': '%23MafiaSegueDeVolta',\n",
       "    'tweet_volume': 11822,\n",
       "    'url': 'http://twitter.com/search?q=%23MafiaSegueDeVolta'},\n",
       "   {'name': '#الغا_دوام_رمضان',\n",
       "    'promoted_content': None,\n",
       "    'query': '%23%D8%A7%D9%84%D8%BA%D8%A7_%D8%AF%D9%88%D8%A7%D9%85_%D8%B1%D9%85%D8%B6%D8%A7%D9%86',\n",
       "    'tweet_volume': 13824,\n",
       "    'url': 'http://twitter.com/search?q=%23%D8%A7%D9%84%D8%BA%D8%A7_%D8%AF%D9%88%D8%A7%D9%85_%D8%B1%D9%85%D8%B6%D8%A7%D9%86'},\n",
       "   {'name': '#UyumadımÇünkü',\n",
       "    'promoted_content': None,\n",
       "    'query': '%23Uyumad%C4%B1m%C3%87%C3%BCnk%C3%BC',\n",
       "    'tweet_volume': None,\n",
       "    'url': 'http://twitter.com/search?q=%23Uyumad%C4%B1m%C3%87%C3%BCnk%C3%BC'},\n",
       "   {'name': '#XF10',\n",
       "    'promoted_content': None,\n",
       "    'query': '%23XF10',\n",
       "    'tweet_volume': 76580,\n",
       "    'url': 'http://twitter.com/search?q=%23XF10'},\n",
       "   {'name': '#MercuryPrize',\n",
       "    'promoted_content': None,\n",
       "    'query': '%23MercuryPrize',\n",
       "    'tweet_volume': 26254,\n",
       "    'url': 'http://twitter.com/search?q=%23MercuryPrize'},\n",
       "   {'name': '#Debate25s',\n",
       "    'promoted_content': None,\n",
       "    'query': '%23Debate25s',\n",
       "    'tweet_volume': 24710,\n",
       "    'url': 'http://twitter.com/search?q=%23Debate25s'},\n",
       "   {'name': '#LosCaminosDeAntonio',\n",
       "    'promoted_content': None,\n",
       "    'query': '%23LosCaminosDeAntonio',\n",
       "    'tweet_volume': None,\n",
       "    'url': 'http://twitter.com/search?q=%23LosCaminosDeAntonio'},\n",
       "   {'name': '#TBTENMTVHITS',\n",
       "    'promoted_content': None,\n",
       "    'query': '%23TBTENMTVHITS',\n",
       "    'tweet_volume': None,\n",
       "    'url': 'http://twitter.com/search?q=%23TBTENMTVHITS'},\n",
       "   {'name': '#طيب_لسانك_بالذكر',\n",
       "    'promoted_content': None,\n",
       "    'query': '%23%D8%B7%D9%8A%D8%A8_%D9%84%D8%B3%D8%A7%D9%86%D9%83_%D8%A8%D8%A7%D9%84%D8%B0%D9%83%D8%B1',\n",
       "    'tweet_volume': 34569,\n",
       "    'url': 'http://twitter.com/search?q=%23%D8%B7%D9%8A%D8%A8_%D9%84%D8%B3%D8%A7%D9%86%D9%83_%D8%A8%D8%A7%D9%84%D8%B0%D9%83%D8%B1'},\n",
       "   {'name': '#15TemmuzUNUTULMAZ',\n",
       "    'promoted_content': None,\n",
       "    'query': '%2315TemmuzUNUTULMAZ',\n",
       "    'tweet_volume': 46622,\n",
       "    'url': 'http://twitter.com/search?q=%2315TemmuzUNUTULMAZ'},\n",
       "   {'name': '#ClassicRockSongMashup',\n",
       "    'promoted_content': None,\n",
       "    'query': '%23ClassicRockSongMashup',\n",
       "    'tweet_volume': None,\n",
       "    'url': 'http://twitter.com/search?q=%23ClassicRockSongMashup'},\n",
       "   {'name': '#FirstThingInTheMorningI',\n",
       "    'promoted_content': None,\n",
       "    'query': '%23FirstThingInTheMorningI',\n",
       "    'tweet_volume': None,\n",
       "    'url': 'http://twitter.com/search?q=%23FirstThingInTheMorningI'},\n",
       "   {'name': '#DeMéxicoCelebro',\n",
       "    'promoted_content': None,\n",
       "    'query': '%23DeM%C3%A9xicoCelebro',\n",
       "    'tweet_volume': None,\n",
       "    'url': 'http://twitter.com/search?q=%23DeM%C3%A9xicoCelebro'},\n",
       "   {'name': '#الملك_سلمان_فخر_وعز',\n",
       "    'promoted_content': None,\n",
       "    'query': '%23%D8%A7%D9%84%D9%85%D9%84%D9%83_%D8%B3%D9%84%D9%85%D8%A7%D9%86_%D9%81%D8%AE%D8%B1_%D9%88%D8%B9%D8%B2',\n",
       "    'tweet_volume': 22722,\n",
       "    'url': 'http://twitter.com/search?q=%23%D8%A7%D9%84%D9%85%D9%84%D9%83_%D8%B3%D9%84%D9%85%D8%A7%D9%86_%D9%81%D8%AE%D8%B1_%D9%88%D8%B9%D8%B2'},\n",
       "   {'name': '#spreadyourlove',\n",
       "    'promoted_content': None,\n",
       "    'query': '%23spreadyourlove',\n",
       "    'tweet_volume': None,\n",
       "    'url': 'http://twitter.com/search?q=%23spreadyourlove'},\n",
       "   {'name': '#VcFazLuanSantana',\n",
       "    'promoted_content': None,\n",
       "    'query': '%23VcFazLuanSantana',\n",
       "    'tweet_volume': None,\n",
       "    'url': 'http://twitter.com/search?q=%23VcFazLuanSantana'},\n",
       "   {'name': '#NYJvsBUF',\n",
       "    'promoted_content': None,\n",
       "    'query': '%23NYJvsBUF',\n",
       "    'tweet_volume': 14494,\n",
       "    'url': 'http://twitter.com/search?q=%23NYJvsBUF'},\n",
       "   {'name': '#الاحد_ما_يوقفنا_احد',\n",
       "    'promoted_content': None,\n",
       "    'query': '%23%D8%A7%D9%84%D8%A7%D8%AD%D8%AF_%D9%85%D8%A7_%D9%8A%D9%88%D9%82%D9%81%D9%86%D8%A7_%D8%A7%D8%AD%D8%AF',\n",
       "    'tweet_volume': None,\n",
       "    'url': 'http://twitter.com/search?q=%23%D8%A7%D9%84%D8%A7%D8%AD%D8%AF_%D9%85%D8%A7_%D9%8A%D9%88%D9%82%D9%81%D9%86%D8%A7_%D8%A7%D8%AD%D8%AF'},\n",
       "   {'name': '#تيم_المباحث_وعوده_الفولورز',\n",
       "    'promoted_content': None,\n",
       "    'query': '%23%D8%AA%D9%8A%D9%85_%D8%A7%D9%84%D9%85%D8%A8%D8%A7%D8%AD%D8%AB_%D9%88%D8%B9%D9%88%D8%AF%D9%87_%D8%A7%D9%84%D9%81%D9%88%D9%84%D9%88%D8%B1%D8%B2',\n",
       "    'tweet_volume': 222452,\n",
       "    'url': 'http://twitter.com/search?q=%23%D8%AA%D9%8A%D9%85_%D8%A7%D9%84%D9%85%D8%A8%D8%A7%D8%AD%D8%AB_%D9%88%D8%B9%D9%88%D8%AF%D9%87_%D8%A7%D9%84%D9%81%D9%88%D9%84%D9%88%D8%B1%D8%B2'},\n",
       "   {'name': '#CapiParaPresidente',\n",
       "    'promoted_content': None,\n",
       "    'query': '%23CapiParaPresidente',\n",
       "    'tweet_volume': 14770,\n",
       "    'url': 'http://twitter.com/search?q=%23CapiParaPresidente'},\n",
       "   {'name': '#MUDVzlaNoSeNegocia',\n",
       "    'promoted_content': None,\n",
       "    'query': '%23MUDVzlaNoSeNegocia',\n",
       "    'tweet_volume': None,\n",
       "    'url': 'http://twitter.com/search?q=%23MUDVzlaNoSeNegocia'},\n",
       "   {'name': '#EuropaLeague',\n",
       "    'promoted_content': None,\n",
       "    'query': '%23EuropaLeague',\n",
       "    'tweet_volume': 30166,\n",
       "    'url': 'http://twitter.com/search?q=%23EuropaLeague'},\n",
       "   {'name': '#ذكريات_زد3',\n",
       "    'promoted_content': None,\n",
       "    'query': '%23%D8%B0%D9%83%D8%B1%D9%8A%D8%A7%D8%AA_%D8%B2%D8%AF3',\n",
       "    'tweet_volume': None,\n",
       "    'url': 'http://twitter.com/search?q=%23%D8%B0%D9%83%D8%B1%D9%8A%D8%A7%D8%AA_%D8%B2%D8%AF3'},\n",
       "   {'name': '#ImACybersmiler',\n",
       "    'promoted_content': None,\n",
       "    'query': '%23ImACybersmiler',\n",
       "    'tweet_volume': 10791,\n",
       "    'url': 'http://twitter.com/search?q=%23ImACybersmiler'},\n",
       "   {'name': '#GolFutsal',\n",
       "    'promoted_content': None,\n",
       "    'query': '%23GolFutsal',\n",
       "    'tweet_volume': None,\n",
       "    'url': 'http://twitter.com/search?q=%23GolFutsal'},\n",
       "   {'name': '#SóLacreNoKpop',\n",
       "    'promoted_content': None,\n",
       "    'query': '%23S%C3%B3LacreNoKpop',\n",
       "    'tweet_volume': None,\n",
       "    'url': 'http://twitter.com/search?q=%23S%C3%B3LacreNoKpop'},\n",
       "   {'name': '#امير_يهدي_طفله_بنتلي',\n",
       "    'promoted_content': None,\n",
       "    'query': '%23%D8%A7%D9%85%D9%8A%D8%B1_%D9%8A%D9%87%D8%AF%D9%8A_%D8%B7%D9%81%D9%84%D9%87_%D8%A8%D9%86%D8%AA%D9%84%D9%8A',\n",
       "    'tweet_volume': None,\n",
       "    'url': 'http://twitter.com/search?q=%23%D8%A7%D9%85%D9%8A%D8%B1_%D9%8A%D9%87%D8%AF%D9%8A_%D8%B7%D9%81%D9%84%D9%87_%D8%A8%D9%86%D8%AA%D9%84%D9%8A'},\n",
       "   {'name': '#LEmissionPolitique',\n",
       "    'promoted_content': None,\n",
       "    'query': '%23LEmissionPolitique',\n",
       "    'tweet_volume': 35756,\n",
       "    'url': 'http://twitter.com/search?q=%23LEmissionPolitique'},\n",
       "   {'name': '#LaLeyDeLaSelva',\n",
       "    'promoted_content': None,\n",
       "    'query': '%23LaLeyDeLaSelva',\n",
       "    'tweet_volume': None,\n",
       "    'url': 'http://twitter.com/search?q=%23LaLeyDeLaSelva'},\n",
       "   {'name': '#Supercopa',\n",
       "    'promoted_content': None,\n",
       "    'query': '%23Supercopa',\n",
       "    'tweet_volume': None,\n",
       "    'url': 'http://twitter.com/search?q=%23Supercopa'},\n",
       "   {'name': '#بتحس_بالامان_بوجود',\n",
       "    'promoted_content': None,\n",
       "    'query': '%23%D8%A8%D8%AA%D8%AD%D8%B3_%D8%A8%D8%A7%D9%84%D8%A7%D9%85%D8%A7%D9%86_%D8%A8%D9%88%D8%AC%D9%88%D8%AF',\n",
       "    'tweet_volume': None,\n",
       "    'url': 'http://twitter.com/search?q=%23%D8%A8%D8%AA%D8%AD%D8%B3_%D8%A8%D8%A7%D9%84%D8%A7%D9%85%D8%A7%D9%86_%D8%A8%D9%88%D8%AC%D9%88%D8%AF'},\n",
       "   {'name': '#AnittaNoMixTudo',\n",
       "    'promoted_content': None,\n",
       "    'query': '%23AnittaNoMixTudo',\n",
       "    'tweet_volume': None,\n",
       "    'url': 'http://twitter.com/search?q=%23AnittaNoMixTudo'},\n",
       "   {'name': '#TyreKing',\n",
       "    'promoted_content': None,\n",
       "    'query': '%23TyreKing',\n",
       "    'tweet_volume': 13285,\n",
       "    'url': 'http://twitter.com/search?q=%23TyreKing'},\n",
       "   {'name': '#InterHapoel',\n",
       "    'promoted_content': None,\n",
       "    'query': '%23InterHapoel',\n",
       "    'tweet_volume': 17693,\n",
       "    'url': 'http://twitter.com/search?q=%23InterHapoel'},\n",
       "   {'name': '#pozole',\n",
       "    'promoted_content': None,\n",
       "    'query': '%23pozole',\n",
       "    'tweet_volume': None,\n",
       "    'url': 'http://twitter.com/search?q=%23pozole'},\n",
       "   {'name': '#USAvTHA',\n",
       "    'promoted_content': None,\n",
       "    'query': '%23USAvTHA',\n",
       "    'tweet_volume': None,\n",
       "    'url': 'http://twitter.com/search?q=%23USAvTHA'}]}]"
      ]
     },
     "execution_count": 3,
     "metadata": {},
     "output_type": "execute_result"
    }
   ],
   "source": [
    "world_trends"
   ]
  },
  {
   "cell_type": "markdown",
   "metadata": {},
   "source": [
    "# Example 3.  Reading data into MongoDB"
   ]
  },
  {
   "cell_type": "code",
   "execution_count": 4,
   "metadata": {
    "collapsed": false
   },
   "outputs": [],
   "source": [
    "import json\n",
    "import pymongo"
   ]
  },
  {
   "cell_type": "code",
   "execution_count": 6,
   "metadata": {
    "collapsed": false
   },
   "outputs": [
    {
     "name": "stderr",
     "output_type": "stream",
     "text": [
      "C:\\Users\\randy\\Anaconda3\\lib\\site-packages\\ipykernel\\__main__.py:22: DeprecationWarning: insert is deprecated. Use insert_one or insert_many instead.\n"
     ]
    }
   ],
   "source": [
    "# Based upon example 9-7 in *required reading*\n",
    "# Mining the Soocial Web, Chapter 9\n",
    "\n",
    "# Connects to the MongoDB server running on \n",
    "# localhost:27017 by default\n",
    "    \n",
    "client = pymongo.MongoClient()\n",
    "    \n",
    "# Get a reference to a particular database\n",
    "    \n",
    "db = client['twitter']\n",
    "    \n",
    "# Reference a particular collection in the database\n",
    "coll = db['us_trends']\n",
    "\n",
    "# Clear any old data out of the database\n",
    "# **Only for Demonstration**\n",
    "coll.drop()\n",
    "    \n",
    "# Perform a bulk insert and  return the IDs\n",
    "    \n",
    "_ = coll.insert(us_trends[0]['trends'])\n"
   ]
  },
  {
   "cell_type": "markdown",
   "metadata": {
    "collapsed": false
   },
   "source": [
    "# Example 4.  Reading data out of MongoDB"
   ]
  },
  {
   "cell_type": "code",
   "execution_count": 7,
   "metadata": {
    "collapsed": true
   },
   "outputs": [],
   "source": [
    "# Connects to the MongoDB server running on \n",
    "# localhost:27017 by default\n",
    "    \n",
    "client = pymongo.MongoClient()\n",
    "    \n",
    "# Get a reference to a particular database\n",
    "    \n",
    "db = client['twitter']\n",
    "    \n",
    "# Reference a particular collection in the database\n",
    "coll = db['us_trends']"
   ]
  },
  {
   "cell_type": "code",
   "execution_count": 8,
   "metadata": {
    "collapsed": true
   },
   "outputs": [],
   "source": [
    "cursor = coll.find({})"
   ]
  },
  {
   "cell_type": "code",
   "execution_count": 9,
   "metadata": {
    "collapsed": false
   },
   "outputs": [
    {
     "name": "stdout",
     "output_type": "stream",
     "text": [
      "#HispanicHeritageMonth 87551\n",
      "#FirstThingInTheMorningI None\n",
      "#ClassicRockSongMashup None\n",
      "#NYJvsBUF 14494\n",
      "#TyreKing 13285\n",
      "Billy Butler None\n",
      "Sammy Watkins None\n",
      "Penn Station 10330\n",
      "Greg Ward None\n",
      "Phi Phi None\n",
      "Donald Trump Jr. 66208\n",
      "Eduardo Rodriguez None\n",
      "Akram Joudeh None\n",
      "Laconia None\n",
      "Gallardo None\n",
      "Michael Giacchino None\n",
      "Ryon Healy None\n",
      "Deion Sanders None\n",
      "Hayden Moore None\n",
      "I Feel Good None\n",
      "Laguna Hills None\n",
      "Blue Angels None\n",
      "Marc Jacobs 19045\n",
      "Chad Kuhl None\n",
      "Heather O'Reilly None\n",
      "Midtown Manhattan None\n",
      "Rose Mofford None\n",
      "Cal Expo None\n",
      "Rob Ryan None\n",
      "#USWNT None\n",
      "#HOUvsCIN None\n",
      "#cheesebooks None\n",
      "#JOANNE 132104\n",
      "#Gala2GH17 202280\n",
      "#ImACybersmiler 10791\n",
      "#roastjuareztwins None\n",
      "#ona16comments None\n",
      "#rvamayor None\n",
      "#bbcqt 42109\n",
      "#DereksNewFreestyle None\n",
      "#WFPGala None\n",
      "#RenunciaYa 71944\n",
      "#AHSRoanoke None\n",
      "#whatisschool None\n",
      "#RideTogether None\n",
      "#RaceJusticeLA None\n",
      "#moviefightslive None\n",
      "#CloudFlareSummit None\n",
      "#CarmillaS3 None\n",
      "#MercuryPrize 26254\n"
     ]
    }
   ],
   "source": [
    "for trend in cursor:\n",
    "    print(trend['name'], trend['tweet_volume'])"
   ]
  },
  {
   "cell_type": "markdown",
   "metadata": {},
   "source": [
    "# Example 5. Searching MongoDB"
   ]
  },
  {
   "cell_type": "code",
   "execution_count": 10,
   "metadata": {
    "collapsed": true
   },
   "outputs": [],
   "source": [
    "# Do a search!  See \n",
    "# https://docs.mongodb.org/getting-started/python/query/\n",
    "# and\n",
    "# https://docs.mongodb.org/manual/tutorial/query-documents/\n",
    "# for details.\n",
    "cursor = coll.find({'tweet_volume': {'$gt': 30000} })"
   ]
  },
  {
   "cell_type": "code",
   "execution_count": 11,
   "metadata": {
    "collapsed": false
   },
   "outputs": [
    {
     "name": "stdout",
     "output_type": "stream",
     "text": [
      "#HispanicHeritageMonth 87551\n",
      "Donald Trump Jr. 66208\n",
      "#JOANNE 132104\n",
      "#Gala2GH17 202280\n",
      "#bbcqt 42109\n",
      "#RenunciaYa 71944\n"
     ]
    }
   ],
   "source": [
    "for trend in cursor:\n",
    "    print(trend['name'], trend['tweet_volume'])"
   ]
  },
  {
   "cell_type": "markdown",
   "metadata": {},
   "source": [
    "# Example 6. Fancy searches... regular expressions!"
   ]
  },
  {
   "cell_type": "code",
   "execution_count": 16,
   "metadata": {
    "collapsed": false
   },
   "outputs": [],
   "source": [
    "# Do a search!  See \n",
    "# https://docs.mongodb.org/getting-started/python/query/\n",
    "# and\n",
    "# https://docs.mongodb.org/manual/tutorial/query-documents/\n",
    "# for details.\n",
    "cursor = coll.find({'$or': [ {'tweet_volume': {'$gt': 30000}} , {'name':  {'$regex': '.*car.*', '$options': 'i' }} ] })"
   ]
  },
  {
   "cell_type": "code",
   "execution_count": 17,
   "metadata": {
    "collapsed": false
   },
   "outputs": [
    {
     "name": "stdout",
     "output_type": "stream",
     "text": [
      "#HispanicHeritageMonth 87551\n",
      "Donald Trump Jr. 66208\n",
      "#JOANNE 132104\n",
      "#Gala2GH17 202280\n",
      "#bbcqt 42109\n",
      "#RenunciaYa 71944\n",
      "#CarmillaS3 None\n"
     ]
    }
   ],
   "source": [
    "for trend in cursor:\n",
    "    print(trend['name'], trend['tweet_volume'])"
   ]
  },
  {
   "cell_type": "code",
   "execution_count": null,
   "metadata": {
    "collapsed": true
   },
   "outputs": [],
   "source": []
  }
 ],
 "metadata": {
  "anaconda-cloud": {},
  "kernelspec": {
   "display_name": "Python [Root]",
   "language": "python",
   "name": "Python [Root]"
  },
  "language_info": {
   "codemirror_mode": {
    "name": "ipython",
    "version": 3
   },
   "file_extension": ".py",
   "mimetype": "text/x-python",
   "name": "python",
   "nbconvert_exporter": "python",
   "pygments_lexer": "ipython3",
   "version": "3.5.2"
  }
 },
 "nbformat": 4,
 "nbformat_minor": 0
}
