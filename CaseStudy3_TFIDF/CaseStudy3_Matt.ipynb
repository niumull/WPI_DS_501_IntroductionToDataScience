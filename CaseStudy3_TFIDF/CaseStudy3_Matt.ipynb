{
 "cells": [
  {
   "cell_type": "markdown",
   "metadata": {},
   "source": [
    "# Case Study 3 : Textual analysis of movie reviews\n",
    "\n",
    "** Due Date: November 17, 2016 5:59PM**\n",
    "\n",
    "*------------"
   ]
  },
  {
   "cell_type": "markdown",
   "metadata": {},
   "source": [
    "<img src=\"http://www.conversational-technologies.com/nldemos/nlWordle.GIF\">"
   ]
  },
  {
   "cell_type": "markdown",
   "metadata": {},
   "source": [
    "**TEAM Members:** Please EDIT this cell and add the names of all the team members in your team\n",
    "\n",
    "    member 1\n",
    "    \n",
    "    member 2\n",
    "    \n",
    "    ..."
   ]
  },
  {
   "cell_type": "markdown",
   "metadata": {},
   "source": [
    "**Desired outcome of the case study.**\n",
    "* In this case study we will look at movie reviews from the v2.0 polarity dataset comes from\n",
    "the http://www.cs.cornell.edu/people/pabo/movie-review-data.\n",
    "    * It contains written reviews of movies divided into positive and negative reviews.\n",
    "* As in Case Study 2 idea is to *analyze* the data set, make *conjectures*, support or refute those conjectures with *data*, and *tell a story* about the data!\n",
    "    \n",
    "**Required Readings:** \n",
    "* This case study will be based upon the scikit-learn Python library\n",
    "* We will build upon the turtorial \"Working With Text Data\" which can be found at http://scikit-learn.org/stable/tutorial/text_analytics/working_with_text_data.html\n",
    "\n",
    "**Case study assumptions:**\n",
    "* You have access to a python installation\n",
    "\n",
    "**Required Python libraries:**\n",
    "* Numpy (www.numpy.org) (should already be installed from Case Study 2)\n",
    "* Matplotlib (matplotlib.org) (should already be installed from Case Study 2)\n",
    "* Scikit-learn (scikit-learn.org) (avaiable from Enthought Canopy)\n",
    "* You are also welcome to use the Python Natural Language Processing Toolkit (www.nltk.org) (though it is not required).\n",
    "\n",
    "** NOTE **\n",
    "* Please don't forget to save the notebook frequently when working in IPython Notebook, otherwise the changes you made can be lost.\n",
    "\n",
    "*----------------------"
   ]
  },
  {
   "cell_type": "markdown",
   "metadata": {},
   "source": [
    "## Problem 1 (20 points): Complete Exercise 2: Sentiment Analysis on movie reviews from http://scikit-learn.org/stable/tutorial/text_analytics/working_with_text_data.html"
   ]
  },
  {
   "cell_type": "markdown",
   "metadata": {},
   "source": [
    "* Assuming that you have downloaded the scikit-learn source code:\n",
    "    * The data cane be downloaded using doc/tutorial/text_analytics/data/movie_reviews/fetch_data.py\n",
    "    * A skeleton for the solution can be found in doc/tutorial/text_analytics/skeletons/exercise_02_sentiment.py\n",
    "    * A completed solution can be found in doc/tutorial/text_analytics/solutions/exercise_02_sentiment.py\n",
    "* **It is ok to use the solution provided in the scikit-learn distribution as a starting place for your work.**\n",
    "\n",
    "### Modify the solution to Exercise 2 so that it can run in this iPython notebook\n",
    "* This will likely involved moving around data files and/or small modifications to the script."
   ]
  },
  {
   "cell_type": "code",
   "execution_count": 1,
   "metadata": {
    "collapsed": false,
    "scrolled": true
   },
   "outputs": [],
   "source": [
    "# general\n",
    "import sys\n",
    "import numpy as np\n",
    "import warnings\n",
    "warnings.filterwarnings(\"ignore\", category=DeprecationWarning)\n",
    "from datetime import datetime\n",
    "from time import time\n",
    "\n",
    "# scikit learn datasets\n",
    "from sklearn.datasets import load_files\n",
    "\n",
    "# scikit feature extraction\n",
    "from sklearn.feature_extraction.text import CountVectorizer\n",
    "from sklearn.feature_extraction.text import TfidfVectorizer\n",
    "\n",
    "# preprocessing, cross validation and model analysis\n",
    "from sklearn.pipeline import Pipeline\n",
    "from sklearn.model_selection import GridSearchCV\n",
    "from sklearn.model_selection import train_test_split\n",
    "from sklearn import metrics\n",
    "\n",
    "# scikit learn classifiers\n",
    "from sklearn.svm import LinearSVC\n",
    "from sklearn.neighbors import KNeighborsClassifier\n",
    "# from sklearn.lda import LDA\n",
    "from sklearn.discriminant_analysis import LinearDiscriminantAnalysis\n",
    "from sklearn.discriminant_analysis import QuadraticDiscriminantAnalysis\n",
    "\n",
    "# k-means clustering\n",
    "from sklearn.cluster import KMeans\n",
    "from sklearn.metrics.pairwise import pairwise_distances_argmin\n",
    "from sklearn.decomposition import PCA\n",
    "from sklearn.decomposition import TruncatedSVD\n",
    "from sklearn.preprocessing import StandardScaler\n",
    "\n",
    "# used to pickle results\n",
    "from sklearn.externals import joblib\n",
    "\n",
    "# matplotlib\n",
    "import matplotlib.pyplot as plt\n",
    "from mpl_toolkits.mplot3d import Axes3D\n",
    "from matplotlib import cm\n",
    "from matplotlib.ticker import LinearLocator, FormatStrFormatter\n",
    "%matplotlib inline"
   ]
  },
  {
   "cell_type": "code",
   "execution_count": 10,
   "metadata": {
    "collapsed": false
   },
   "outputs": [
    {
     "name": "stdout",
     "output_type": "stream",
     "text": [
      "n_samples: 2000\n"
     ]
    }
   ],
   "source": [
    "# load data and print number of samples\n",
    "movie_reviews_data_folder = \"txt_sentoken\"\n",
    "dataset = load_files(movie_reviews_data_folder, shuffle=False)\n",
    "print(\"n_samples: %d\" % len(dataset.data))"
   ]
  },
  {
   "cell_type": "code",
   "execution_count": 11,
   "metadata": {
    "collapsed": false
   },
   "outputs": [],
   "source": [
    "# split the dataset in training and test set:\n",
    "docs_train, docs_test, y_train, y_test = train_test_split(\n",
    "    dataset.data, dataset.target, test_size=0.25, random_state=None)"
   ]
  },
  {
   "cell_type": "code",
   "execution_count": 12,
   "metadata": {
    "collapsed": false
   },
   "outputs": [],
   "source": [
    "# TASK: Build a vectorizer / classifier pipeline that filters out tokens\n",
    "# that are too rare or too frequent\n",
    "text_clf_1 = Pipeline([('tfidf_vect', TfidfVectorizer(min_df=3, max_df=0.95)),\n",
    "                        ('svm', LinearSVC(C=1000))\n",
    "                      ])"
   ]
  },
  {
   "cell_type": "code",
   "execution_count": 21,
   "metadata": {
    "collapsed": false
   },
   "outputs": [],
   "source": [
    "# TASK: Build a grid search to find out whether unigrams or bigrams are\n",
    "# more useful.\n",
    "# Fit the pipeline on the training set using grid search for the parameters\n",
    "parameters_1 = {'tfidf_vect__ngram_range': [(1, 1),(2,2)]}\n",
    "\n",
    "grid_search = GridSearchCV(text_clf_1, parameters_1, n_jobs=1).fit(docs_train, y_train)"
   ]
  },
  {
   "cell_type": "code",
   "execution_count": 22,
   "metadata": {
    "collapsed": false
   },
   "outputs": [],
   "source": [
    "# TASK: print the cross-validated scores for the each parameters set\n",
    "# explored by the grid search\n",
    "# for param_name in sorted(parameters.keys()):\n",
    "#     print(\"%s: %r\" % (param_name, grid_search.best_params_[param_name]))"
   ]
  },
  {
   "cell_type": "code",
   "execution_count": 23,
   "metadata": {
    "collapsed": false
   },
   "outputs": [
    {
     "name": "stdout",
     "output_type": "stream",
     "text": [
      "0 params - {'tfidf_vect__ngram_range': (1, 1)}; mean - 0.83; std - 0.01\n",
      "1 params - {'tfidf_vect__ngram_range': (2, 2)}; mean - 0.82; std - 0.02\n"
     ]
    }
   ],
   "source": [
    "# TASK: print the mean and std for each candidate along with the parameter\n",
    "# settings for all the candidates explored by grid search.\n",
    "\n",
    "# NOTE: This code did not appear in the skeleton file and\n",
    "# replaced the block above in the solution.\n",
    "n_candidates = len(grid_search.cv_results_['params'])\n",
    "\n",
    "for i in range(n_candidates):\n",
    "    print(i, 'params - %s; mean - %0.2f; std - %0.2f'\n",
    "             % (grid_search.cv_results_['params'][i],\n",
    "                grid_search.cv_results_['mean_test_score'][i],\n",
    "                grid_search.cv_results_['std_test_score'][i]))"
   ]
  },
  {
   "cell_type": "code",
   "execution_count": 24,
   "metadata": {
    "collapsed": false
   },
   "outputs": [],
   "source": [
    "# TASK: Predict the outcome on the testing set and store it in a variable\n",
    "# named y_predicted\n",
    "y_predicted = grid_search.predict(docs_test)"
   ]
  },
  {
   "cell_type": "code",
   "execution_count": 25,
   "metadata": {
    "collapsed": false
   },
   "outputs": [
    {
     "name": "stdout",
     "output_type": "stream",
     "text": [
      "             precision    recall  f1-score   support\n",
      "\n",
      "        neg       0.85      0.86      0.85       250\n",
      "        pos       0.86      0.85      0.85       250\n",
      "\n",
      "avg / total       0.85      0.85      0.85       500\n",
      "\n",
      "[[214  36]\n",
      " [ 37 213]]\n"
     ]
    }
   ],
   "source": [
    "# Print the classification report\n",
    "print(metrics.classification_report(y_test, y_predicted,\n",
    "                                    target_names=dataset.target_names))\n",
    "\n",
    "# Print and plot the confusion matrix\n",
    "cm = metrics.confusion_matrix(y_test, y_predicted)\n",
    "print(cm)"
   ]
  },
  {
   "cell_type": "code",
   "execution_count": 26,
   "metadata": {
    "collapsed": false
   },
   "outputs": [
    {
     "data": {
      "image/png": "[encoded data removed]",
      "text/plain": [
       "<matplotlib.figure.Figure at 0xcd10da0>"
      ]
     },
     "metadata": {},
     "output_type": "display_data"
    }
   ],
   "source": [
    "# plot confusion matrix\n",
    "plt.matshow(cm)\n",
    "plt.show()"
   ]
  },
  {
   "cell_type": "markdown",
   "metadata": {},
   "source": [
    "## Problem 2 (20 points): Explore the scikit-learn TfidVectorizer class\n",
    "\n",
    "**Read the documentation for the TfidVectorizer class at http://scikit-learn.org/stable/modules/generated/sklearn.feature_extraction.text.TfidfVectorizer.html.** \n",
    "* Define the term frequency–inverse document frequency (TF-IDF) statistic (http://en.wikipedia.org/wiki/Tf%E2%80%93idf will likely help).\n",
    "* Run the TfidVectorizer class on the training data above (docs_train).\n",
    "* Explore the min_df and max_df parameters of TfidVectorizer.  What do they mean? How do they change the features you get?\n",
    "* Explore the ngram_range parameter of TfidVectorizer.  What does it mean? How does it change the features you get? (Note, large values  of ngram_range may take a long time to run!)"
   ]
  },
  {
   "cell_type": "code",
   "execution_count": 27,
   "metadata": {
    "collapsed": true
   },
   "outputs": [],
   "source": [
    "# Note: original data and train/test files used from problem 1\n",
    "# TASK: Build a vectorizer / classifier pipeline that filters out tokens\n",
    "# that are too rare or too frequent\n",
    "\n",
    "# build pipeline using TfidfVectorizer\n",
    "text_clf_2 = Pipeline([('tfidf_vect', TfidfVectorizer()),\n",
    "                      ('svm', LinearSVC(C=1000))\n",
    "                      ])"
   ]
  },
  {
   "cell_type": "code",
   "execution_count": 32,
   "metadata": {
    "collapsed": false
   },
   "outputs": [
    {
     "ename": "SystemExit",
     "evalue": "",
     "output_type": "error",
     "traceback": [
      "An exception has occurred, use %tb to see the full traceback.\n",
      "\u001b[0;31mSystemExit\u001b[0m\n"
     ]
    },
    {
     "name": "stderr",
     "output_type": "stream",
     "text": [
      "C:\\Users\\mniu\\AppData\\Local\\Continuum\\Anaconda3\\lib\\site-packages\\IPython\\core\\interactiveshell.py:2889: UserWarning: To exit: use 'exit', 'quit', or Ctrl-D.\n",
      "  warn(\"To exit: use 'exit', 'quit', or Ctrl-D.\", stacklevel=1)\n"
     ]
    }
   ],
   "source": [
    "# specificy pipeline parameters\n",
    "\n",
    "# ranges for min_df and max_df\n",
    "min_df_range = np.arange(0.1,0.4,0.1)\n",
    "max_df_range = 1. - min_df_range\n",
    "sys.exit()\n",
    "# min_df_range = [3]\n",
    "# max_df_range = [0.95]\n",
    "\n",
    "n_grams_list = [ \n",
    "                 [(1,3)]\n",
    "               ]\n",
    "\n",
    "keys = ['params','mean_test_score','std_test_score']\n",
    "\n",
    "for n_grams in n_grams_list:\n",
    "\n",
    "    print(min_df_range)\n",
    "    print(max_df_range)\n",
    "    print(n_grams)\n",
    "    \n",
    "    parameters_2 = {\n",
    "                    'tfidf_vect__min_df': min_df_range,\n",
    "                    'tfidf_vect__max_df': max_df_range,\n",
    "                    'tfidf_vect__ngram_range': n_grams\n",
    "                   }\n",
    "\n",
    "    start_time = time()\n",
    "    # Fit the pipeline on the training set using grid search for the parameters\n",
    "    grid_search_2 = GridSearchCV(text_clf_2, parameters_2, n_jobs=1).fit(docs_train, y_train)\n",
    "    print(\"Elapsed time: %s\" % ( (time() - start_time)/60.) )\n",
    "\n",
    "#     # write results to pickle file\n",
    "#     model_results = { key:grid_search_2.cv_results_[key] for key in keys }\n",
    "#     filename = \"model_results_\" + str(n_grams) + \"_\" + datetime.now().strftime(\"%Y%m%d-%H%M%S\") + '.pkl'\n",
    "#     joblib.dump(model_results, filename)\n"
   ]
  },
  {
   "cell_type": "code",
   "execution_count": null,
   "metadata": {
    "collapsed": false
   },
   "outputs": [],
   "source": []
  },
  {
   "cell_type": "markdown",
   "metadata": {},
   "source": [
    "*------------------------\n",
    "\n",
    "## Problem 3 (20 points): Machine learning algorithms\n"
   ]
  },
  {
   "cell_type": "markdown",
   "metadata": {},
   "source": [
    "* Based upon Problem 2 pick some parameters for TfidfVectorizer\n",
    "    * \"fit\" your TfidfVectorizer using docs_train\n",
    "    * Compute \"Xtrain\", a Tf-idf-weighted document-term matrix using the transform function on docs_train\n",
    "    * Compute \"Xtest\", a Tf-idf-weighted document-term matrix using the transform function on docs_test\n",
    "    * Note, be sure to use the same Tf-idf-weighted class (**\"fit\" using docs_train**) to transform **both** docs_test and docs_train\n",
    "* Examine two classifiers provided by scikit-learn \n",
    "    * LinearSVC\n",
    "    * KNeighborsClassifier\n",
    "    * Try a number of different parameter settings for each and judge your performance using a confusion matrix (see Problem 1 for an example).\n",
    "* Does one classifier, or one set of parameters work better?\n",
    "    * Why do you think it might be working better?\n",
    "* For a particular choice of parameters and classifier, look at 2 examples where the prediction was incorrect.\n",
    "    * Can you conjecture on why the classifier made a mistake for this prediction?"
   ]
  },
  {
   "cell_type": "code",
   "execution_count": 25,
   "metadata": {
    "collapsed": false
   },
   "outputs": [],
   "source": [
    "# fit tfidf vectorizer with training data\n",
    "vectorizer = TfidfVectorizer(min_df=3, max_df=0.95).fit(docs_train)"
   ]
  },
  {
   "cell_type": "code",
   "execution_count": 26,
   "metadata": {
    "collapsed": true
   },
   "outputs": [],
   "source": [
    "# create training and test sets\n",
    "Xtrain = vectorizer.transform(docs_train)\n",
    "Xtest  = vectorizer.transform(docs_test)"
   ]
  },
  {
   "cell_type": "code",
   "execution_count": 41,
   "metadata": {
    "collapsed": false
   },
   "outputs": [
    {
     "name": "stdout",
     "output_type": "stream",
     "text": [
      "  (0, 15980)\t0.0208379616673\n",
      "  (0, 15974)\t0.0240519211797\n",
      "  (0, 15961)\t0.0586171002894\n",
      "  (0, 15908)\t0.0275967885143\n",
      "  (0, 15876)\t0.0143101091653\n",
      "  (0, 15858)\t0.0263940452896\n",
      "  (0, 15852)\t0.0359224527178\n",
      "  (0, 15801)\t0.0212182276397\n",
      "  (0, 15747)\t0.0365120926993\n",
      "  (0, 15738)\t0.040216522777\n",
      "  (0, 15703)\t0.0249799384613\n",
      "  (0, 15689)\t0.0102964226827\n",
      "  (0, 15664)\t0.0159245168813\n",
      "  (0, 15663)\t0.0257667717755\n",
      "  (0, 15655)\t0.0159117299671\n",
      "  (0, 15653)\t0.0121098569436\n",
      "  (0, 15646)\t0.0248020170642\n",
      "  (0, 15627)\t0.0184426219894\n",
      "  (0, 15564)\t0.0146487297651\n",
      "  (0, 15542)\t0.0231152725217\n",
      "  (0, 15529)\t0.0336137011619\n",
      "  (0, 15523)\t0.0353120174936\n",
      "  (0, 15512)\t0.054920747855\n",
      "  (0, 15491)\t0.0248770902976\n",
      "  (0, 15489)\t0.0337028360028\n",
      "  :\t:\n",
      "  (0, 1006)\t0.0635483552084\n",
      "  (0, 948)\t0.054920747855\n",
      "  (0, 843)\t0.040882867948\n",
      "  (0, 817)\t0.0374072660804\n",
      "  (0, 796)\t0.0569594428416\n",
      "  (0, 762)\t0.0217835367181\n",
      "  (0, 757)\t0.03164543837\n",
      "  (0, 684)\t0.0971759656186\n",
      "  (0, 681)\t0.0632922078873\n",
      "  (0, 678)\t0.0930985756454\n",
      "  (0, 672)\t0.0437400311262\n",
      "  (0, 651)\t0.0611600546311\n",
      "  (0, 600)\t0.064588954101\n",
      "  (0, 583)\t0.0149772849621\n",
      "  (0, 567)\t0.0445839767546\n",
      "  (0, 521)\t0.0429674937975\n",
      "  (0, 458)\t0.021759270439\n",
      "  (0, 451)\t0.0297480988296\n",
      "  (0, 309)\t0.020642874211\n",
      "  (0, 307)\t0.0288759842107\n",
      "  (0, 265)\t0.0981132222096\n",
      "  (0, 264)\t0.0595877778097\n",
      "  (0, 243)\t0.0793683270786\n",
      "  (0, 213)\t0.0581794188574\n",
      "  (0, 207)\t0.0119593938201\n"
     ]
    }
   ],
   "source": [
    "print(type(Xtrain))\n",
    "print(Xtrain.shape)\n",
    "print(Xtest.shape)\n"
   ]
  },
  {
   "cell_type": "code",
   "execution_count": 13,
   "metadata": {
    "collapsed": false
   },
   "outputs": [],
   "source": [
    "# create pipeline for classifiers\n",
    "clf_pipeline = Pipeline([('svm', LinearSVC()),\n",
    "                         ('knn', KNeighborsClassifier())\n",
    "                        ])\n",
    "\n",
    "# pipeline parameters\n",
    "clf_parameters = {'svm__C': [500,1000],\n",
    "                  'knn__n_neighbors' : [3,5]}"
   ]
  },
  {
   "cell_type": "code",
   "execution_count": null,
   "metadata": {
    "collapsed": true
   },
   "outputs": [],
   "source": []
  },
  {
   "cell_type": "markdown",
   "metadata": {},
   "source": [
    "*------------------------\n",
    "\n",
    "## Problem 4 (20 points): Open Ended Question:  Finding the right plot"
   ]
  },
  {
   "cell_type": "markdown",
   "metadata": {},
   "source": [
    "* Can you find a two dimensional plot in which the positive and negative reviews are separated?\n",
    "    * This problem is hard since you will likely have thousands of features for review, and you will need to transform these thousands of features into just two numbers (so that you can make a 2D plot).\n",
    "* Note, I was not able to find such a plot myself!\n",
    "    * So, this problem is about **trying** but perhaps **not necessarily succeeding**!\n",
    "* I tried two things, neither of which worked very well.\n",
    "    * I first plotted the length of the review versus the number of features we compute that are in that review\n",
    "    * Second I used Principle Component Analysis on a subset of the features.\n",
    "* Can you do better than I did!?"
   ]
  },
  {
   "cell_type": "code",
   "execution_count": 137,
   "metadata": {
    "collapsed": false
   },
   "outputs": [
    {
     "name": "stdout",
     "output_type": "stream",
     "text": [
      "n_samples: 2000\n"
     ]
    }
   ],
   "source": [
    "# load data and print number of samples\n",
    "movie_reviews_data_folder = \"/home/matt/Documents/wpi/courses/f16/ds501/case_studies/casestudy3/txt_sentoken\"\n",
    "unlabeled_dataset = load_files(movie_reviews_data_folder, shuffle=False)\n",
    "print(\"n_samples: %d\" % len(unlabeled_dataset.data))"
   ]
  },
  {
   "cell_type": "code",
   "execution_count": 138,
   "metadata": {
    "collapsed": false
   },
   "outputs": [],
   "source": [
    "# Get data\n",
    "unlabeled_data = unlabeled_dataset.data\n",
    "labels = unlabeled_dataset.target"
   ]
  },
  {
   "cell_type": "code",
   "execution_count": 139,
   "metadata": {
    "collapsed": false
   },
   "outputs": [
    {
     "name": "stdout",
     "output_type": "stream",
     "text": [
      "n_samples: 2000, n_features: 62883\n"
     ]
    }
   ],
   "source": [
    "# vectorize data\n",
    "ngram_range = (2,2)\n",
    "vectorizer = TfidfVectorizer(min_df=3, max_df=0.95,ngram_range=ngram_range)\n",
    "unlabeled_data_v = vectorizer.fit_transform(unlabeled_data)\n",
    "print(\"n_samples: %d, n_features: %d\" % unlabeled_data_v.shape)"
   ]
  },
  {
   "cell_type": "code",
   "execution_count": 140,
   "metadata": {
    "collapsed": false
   },
   "outputs": [
    {
     "data": {
      "text/plain": [
       "KMeans(algorithm='auto', copy_x=True, init='k-means++', max_iter=100,\n",
       "    n_clusters=2, n_init=10, n_jobs=1, precompute_distances='auto',\n",
       "    random_state=None, tol=0.0001, verbose=0)"
      ]
     },
     "execution_count": 140,
     "metadata": {},
     "output_type": "execute_result"
    }
   ],
   "source": [
    "# k-means clustering\n",
    "n_clusters=2\n",
    "k_means = KMeans(n_clusters=n_clusters, init='k-means++', max_iter=100, n_init=10)\n",
    "k_means.fit(unlabeled_data_v)"
   ]
  },
  {
   "cell_type": "code",
   "execution_count": 141,
   "metadata": {
    "collapsed": false
   },
   "outputs": [
    {
     "name": "stdout",
     "output_type": "stream",
     "text": [
      "(2000, 62883)\n",
      "(2000,)\n"
     ]
    }
   ],
   "source": [
    "print(unlabeled_data_v.shape)\n",
    "print(k_means.labels_.shape)"
   ]
  },
  {
   "cell_type": "code",
   "execution_count": 142,
   "metadata": {
    "collapsed": false
   },
   "outputs": [
    {
     "name": "stdout",
     "output_type": "stream",
     "text": [
      "Accuracy: 53.50%\n"
     ]
    }
   ],
   "source": [
    "# score k-means clustering\n",
    "n_correct = 0\n",
    "\n",
    "for true,pred in zip(labels,k_means.labels_):\n",
    "    if np.equal(true,pred):\n",
    "        n_correct = n_correct + 1\n",
    "        \n",
    "score = n_correct / len(labels)\n",
    "print(\"Accuracy: %0.2f%%\" % (100*score))"
   ]
  },
  {
   "cell_type": "code",
   "execution_count": 143,
   "metadata": {
    "collapsed": true
   },
   "outputs": [],
   "source": [
    "# reduce dimensions with truncated SVD\n",
    "# unlabeled_data_v_s = StandardScaler(with_mean=False).fit_transform(unlabeled_data_v)\n",
    "svd = TruncatedSVD(n_components=2)\n",
    "unlabeled_data_v_svd = svd.fit_transform(unlabeled_data_v)"
   ]
  },
  {
   "cell_type": "code",
   "execution_count": 145,
   "metadata": {
    "collapsed": false
   },
   "outputs": [
    {
     "data": {
      "text/plain": [
       "array([[ 0.04567949,  0.10706494],\n",
       "       [ 0.07277839,  0.11225682],\n",
       "       [ 0.0559709 ,  0.03449448],\n",
       "       ..., \n",
       "       [ 0.11290067,  0.04795451],\n",
       "       [ 0.12866079,  0.07077474],\n",
       "       [ 0.10515165,  0.0653171 ]])"
      ]
     },
     "execution_count": 145,
     "metadata": {},
     "output_type": "execute_result"
    }
   ],
   "source": [
    "# k_means_svd = KMeans(n_clusters=n_clusters, init='k-means++', max_iter=100, n_init=10)\n",
    "k_means.fit_transform(unlabeled_data_v_svd)"
   ]
  },
  {
   "cell_type": "code",
   "execution_count": 146,
   "metadata": {
    "collapsed": false
   },
   "outputs": [
    {
     "name": "stdout",
     "output_type": "stream",
     "text": [
      "[[ 0.18134133  0.07267173]\n",
      " [ 0.07449182  0.06214189]\n",
      " [ 0.16952863 -0.00561466]\n",
      " ..., \n",
      " [ 0.17216517 -0.06484847]\n",
      " [ 0.19615191 -0.07335124]\n",
      " [ 0.20645862 -0.0406652 ]]\n",
      "\n",
      "[[ 0.14256081 -0.02712292]\n",
      " [ 0.14516821  0.04477691]]\n"
     ]
    }
   ],
   "source": [
    "print(unlabeled_data_v_svd)\n",
    "print()\n",
    "print(np.sort(k_means.cluster_centers_, axis=0))"
   ]
  },
  {
   "cell_type": "code",
   "execution_count": 148,
   "metadata": {
    "collapsed": false
   },
   "outputs": [
    {
     "data": {
      "image/png": "[encoded data removed]",
      "text/plain": [
       "<matplotlib.figure.Figure at 0x7f15f1821e48>"
      ]
     },
     "metadata": {},
     "output_type": "display_data"
    }
   ],
   "source": [
    "fig = plt.figure(figsize=(8, 8))\n",
    "colors = ['#4EACC5', '#FF9C34', '#4E9A06']\n",
    "\n",
    "k_means_cluster_centers = np.sort(k_means.cluster_centers_, axis=0)\n",
    "k_means_labels = pairwise_distances_argmin(unlabeled_data_v_svd, k_means_cluster_centers)\n",
    "\n",
    "# Step size of the mesh. Decrease to increase the quality of the VQ.\n",
    "h = .01    # point in the mesh [x_min, x_max]x[y_min, y_max].\n",
    "\n",
    "# Plot the decision boundary. For that, we will assign a color to each\n",
    "x_min, x_max = unlabeled_data_v_svd[:, 0].min() - 0.05, unlabeled_data_v_svd[:, 0].max() + 0.05\n",
    "y_min, y_max = unlabeled_data_v_svd[:, 1].min() - 0.05, unlabeled_data_v_svd[:, 1].max() + 0.05\n",
    "xx, yy = np.meshgrid(np.arange(x_min, x_max, h), np.arange(y_min, y_max, h))\n",
    "\n",
    "# Obtain labels for each point in mesh. Use last trained model.\n",
    "Z = k_means.predict(np.c_[xx.ravel(), yy.ravel()])\n",
    "_\n",
    "# Put the result into a color plot\n",
    "Z = Z.reshape(xx.shape)\n",
    "plt.figure(1)\n",
    "plt.clf()\n",
    "\n",
    "plt.imshow(Z, interpolation='nearest',\n",
    "           extent=(xx.min(), xx.max(), yy.min(), yy.max()),\n",
    "           cmap=plt.cm.Paired,\n",
    "           aspect='auto', origin='lower')\n",
    "\n",
    "# # KMeans\n",
    "for k, col in zip(range(2), colors):\n",
    "    \n",
    "    my_members = k_means.labels_ == k\n",
    "    \n",
    "    cluster_center = k_means_cluster_centers[k]\n",
    "    \n",
    "    plt.plot(unlabeled_data_v_svd[my_members, 0], unlabeled_data_v_svd[my_members, 1], 'k.',\n",
    "            markerfacecolor=col, marker='.')\n",
    "        \n",
    "#     plt.plot(cluster_center[0], cluster_center[1], 'o', markerfacecolor=col,\n",
    "#             markeredgecolor='k', markersize=10)\n",
    "    \n",
    "plt.title('KMeans')\n",
    "plt.xticks(())\n",
    "plt.yticks(())\n",
    "\n",
    "plt.show()"
   ]
  },
  {
   "cell_type": "markdown",
   "metadata": {},
   "source": [
    "# Report: communicate the results (20 points)\n",
    "\n",
    "(1) (5 points) What data you collected?\n",
    "\n",
    "(2) (5 points) Why this topic is interesting or important to you? (Motivations)\n",
    "\n",
    "(3) (5 points) How did you analyse the data?\n",
    "\n",
    "(4) (5 points) What did you find in the data?\n",
    "(please include figures or tables in the report, but no source code)"
   ]
  },
  {
   "cell_type": "markdown",
   "metadata": {},
   "source": [
    "# Slides (for 10 minutes of presentation) (20 points)\n",
    "\n",
    "\n",
    "1. (5 points) Motivation about the data collection, why the topic is interesting to you. \n",
    "\n",
    "2. (10 points) Communicating Results (figure/table)\n",
    "\n",
    "3. (5 points) Story telling (How all the parts (data, analysis, result) fit together as a story?)"
   ]
  },
  {
   "cell_type": "markdown",
   "metadata": {},
   "source": [
    "*-----------------\n",
    "# Done\n",
    "\n",
    "All set! \n",
    "\n",
    "** What do you need to submit?**\n",
    "\n",
    "* **Notebook File**: Save this IPython notebook, and find the notebook file in your folder (for example, \"filename.ipynb\"). This is the file you need to submit. Please make sure all the plotted tables and figures are in the notebook. If you used \"ipython notebook --pylab=inline\" to open the notebook, all the figures and tables should have shown up in the notebook.\n",
    "\n",
    "\n",
    "* **PPT Slides**: please prepare PPT slides (for 10 minutes' talk) to present about the case study . We will ask two teams which are randomly selected to present their case studies in class for this case study. \n",
    "\n",
    "* ** Report**: please prepare a report (less than 10 pages) to report what you found in the data.\n",
    "    * What is the relationship between this topic and Business Intelligence?\n",
    "    * How did you analyse the data?\n",
    "    * What did you find in the data? \n",
    "    * What conjectures did you make and how did you support or disprove them using data?\n",
    "    * Did you find anything suprising in the data?\n",
    "    * What business decision do you think this data could help answer?  Why?\n",
    "\n",
    "   (please include figures or tables in the report, **but no source code**)\n",
    "\n",
    "*Please compress all the files into a single zipped file.*\n",
    "\n",
    "\n",
    "** How to submit: **\n",
    "\n",
    "        Send an email to rcpaffenroth@wpi.edu and wliu3@wpi.edu with the subject: \"[DS501] Case study 3-TEAM NUMBER ???\"."
   ]
  }
 ],
 "metadata": {
  "anaconda-cloud": {},
  "kernelspec": {
   "display_name": "Python [Root]",
   "language": "python",
   "name": "Python [Root]"
  },
  "language_info": {
   "codemirror_mode": {
    "name": "ipython",
    "version": 3
   },
   "file_extension": ".py",
   "mimetype": "text/x-python",
   "name": "python",
   "nbconvert_exporter": "python",
   "pygments_lexer": "ipython3",
   "version": "3.5.2"
  }
 },
 "nbformat": 4,
 "nbformat_minor": 0
}
